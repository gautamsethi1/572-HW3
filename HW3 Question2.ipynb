{
 "cells": [
  {
   "cell_type": "code",
   "execution_count": 19,
   "id": "197a531c-f973-4f8a-b7e6-770403048395",
   "metadata": {},
   "outputs": [],
   "source": [
    "from surprise import SVD, KNNBasic\n",
    "from surprise.model_selection import cross_validate\n",
    "import pandas as pd\n",
    "from surprise import Dataset, Reader\n",
    "import matplotlib.pyplot as plt\n",
    "from statistics import mean"
   ]
  },
  {
   "cell_type": "code",
   "execution_count": 2,
   "id": "6706faf2-b422-41af-8bfb-156ff4ff4fa9",
   "metadata": {},
   "outputs": [
    {
     "name": "stdout",
     "output_type": "stream",
     "text": [
      "Evaluating RMSE, MAE of algorithm SVD on 5 split(s).\n",
      "\n",
      "                  Fold 1  Fold 2  Fold 3  Fold 4  Fold 5  Mean    Std     \n",
      "RMSE (testset)    1.0155  1.0076  1.0117  0.9969  1.0210  1.0105  0.0081  \n",
      "MAE (testset)     0.7847  0.7749  0.7847  0.7694  0.7866  0.7801  0.0067  \n",
      "Fit time          0.78    0.81    0.82    0.79    0.80    0.80    0.01    \n",
      "Test time         0.08    0.14    0.07    0.14    0.08    0.10    0.03    \n"
     ]
    },
    {
     "data": {
      "text/plain": [
       "{'test_rmse': array([1.01547195, 1.00760398, 1.01173047, 0.99688961, 1.02096004]),\n",
       " 'test_mae': array([0.78471241, 0.77489129, 0.78466034, 0.76937182, 0.78663064]),\n",
       " 'fit_time': (0.784203052520752,\n",
       "  0.8110330104827881,\n",
       "  0.8165817260742188,\n",
       "  0.7921297550201416,\n",
       "  0.7981441020965576),\n",
       " 'test_time': (0.07695269584655762,\n",
       "  0.14088797569274902,\n",
       "  0.0745079517364502,\n",
       "  0.13870906829833984,\n",
       "  0.07523107528686523)}"
      ]
     },
     "execution_count": 2,
     "metadata": {},
     "output_type": "execute_result"
    }
   ],
   "source": [
    "df = pd.read_csv('ratings_small.csv')\n",
    "\n",
    "reader = Reader(rating_scale=(1, 5))\n",
    "\n",
    "data = Dataset.load_from_df(df[[\"userId\", \"movieId\", \"rating\"]], reader)\n",
    "\n",
    "algoPMF = SVD(biased=False)\n",
    "\n",
    "cross_validate(algoPMF, data, measures=[\"RMSE\", \"MAE\"], cv=5, verbose=True)"
   ]
  },
  {
   "cell_type": "code",
   "execution_count": 3,
   "id": "67f6f915-b67e-4f81-9af8-50e9151593f8",
   "metadata": {},
   "outputs": [
    {
     "name": "stdout",
     "output_type": "stream",
     "text": [
      "Computing the msd similarity matrix...\n",
      "Done computing similarity matrix.\n",
      "Computing the msd similarity matrix...\n",
      "Done computing similarity matrix.\n",
      "Computing the msd similarity matrix...\n",
      "Done computing similarity matrix.\n",
      "Computing the msd similarity matrix...\n",
      "Done computing similarity matrix.\n",
      "Computing the msd similarity matrix...\n",
      "Done computing similarity matrix.\n",
      "Evaluating RMSE, MAE of algorithm KNNBasic on 5 split(s).\n",
      "\n",
      "                  Fold 1  Fold 2  Fold 3  Fold 4  Fold 5  Mean    Std     \n",
      "RMSE (testset)    0.9686  0.9712  0.9544  0.9643  0.9813  0.9680  0.0088  \n",
      "MAE (testset)     0.7434  0.7454  0.7373  0.7402  0.7529  0.7438  0.0053  \n",
      "Fit time          0.09    0.09    0.09    0.09    0.09    0.09    0.00    \n",
      "Test time         0.96    0.91    0.91    0.87    0.91    0.91    0.03    \n"
     ]
    },
    {
     "data": {
      "text/plain": [
       "{'test_rmse': array([0.96861486, 0.97119416, 0.95435156, 0.96429374, 0.98129681]),\n",
       " 'test_mae': array([0.74339512, 0.74543992, 0.73729166, 0.74019348, 0.75292696]),\n",
       " 'fit_time': (0.08707594871520996,\n",
       "  0.09300589561462402,\n",
       "  0.09196114540100098,\n",
       "  0.09337210655212402,\n",
       "  0.09462904930114746),\n",
       " 'test_time': (0.9645226001739502,\n",
       "  0.908318281173706,\n",
       "  0.9142839908599854,\n",
       "  0.8711590766906738,\n",
       "  0.9074580669403076)}"
      ]
     },
     "execution_count": 3,
     "metadata": {},
     "output_type": "execute_result"
    }
   ],
   "source": [
    "#testing user-based collaborative filtering\n",
    "algoUser = KNNBasic()\n",
    "cross_validate(algoUser, data, measures=[\"RMSE\", \"MAE\"], cv=5, verbose=True)"
   ]
  },
  {
   "cell_type": "code",
   "execution_count": 4,
   "id": "948c5e09-3415-4411-bda9-2348162a8e88",
   "metadata": {},
   "outputs": [
    {
     "name": "stdout",
     "output_type": "stream",
     "text": [
      "Computing the msd similarity matrix...\n",
      "Done computing similarity matrix.\n",
      "Computing the msd similarity matrix...\n",
      "Done computing similarity matrix.\n",
      "Computing the msd similarity matrix...\n",
      "Done computing similarity matrix.\n",
      "Computing the msd similarity matrix...\n",
      "Done computing similarity matrix.\n",
      "Computing the msd similarity matrix...\n",
      "Done computing similarity matrix.\n",
      "Evaluating RMSE, MAE of algorithm KNNBasic on 5 split(s).\n",
      "\n",
      "                  Fold 1  Fold 2  Fold 3  Fold 4  Fold 5  Mean    Std     \n",
      "RMSE (testset)    0.9370  0.9398  0.9367  0.9281  0.9344  0.9352  0.0040  \n",
      "MAE (testset)     0.7210  0.7245  0.7231  0.7161  0.7200  0.7209  0.0029  \n",
      "Fit time          2.32    2.33    2.27    2.34    2.30    2.31    0.03    \n",
      "Test time         3.92    4.17    4.19    4.05    4.05    4.07    0.10    \n"
     ]
    },
    {
     "data": {
      "text/plain": [
       "{'test_rmse': array([0.93701833, 0.93982238, 0.93670764, 0.9280902 , 0.93440776]),\n",
       " 'test_mae': array([0.72095684, 0.72451557, 0.72306543, 0.7161471 , 0.72001217]),\n",
       " 'fit_time': (2.3235580921173096,\n",
       "  2.333087921142578,\n",
       "  2.2663700580596924,\n",
       "  2.3417038917541504,\n",
       "  2.3003220558166504),\n",
       " 'test_time': (3.9221298694610596,\n",
       "  4.1685991287231445,\n",
       "  4.1893579959869385,\n",
       "  4.0462048053741455,\n",
       "  4.0485899448394775)}"
      ]
     },
     "execution_count": 4,
     "metadata": {},
     "output_type": "execute_result"
    }
   ],
   "source": [
    "#testing item-based collaborative filtering\n",
    "sim_options = {\"user_based\": False}\n",
    "algoItem = KNNBasic(sim_options=sim_options)\n",
    "\n",
    "# algoItem = KNNBasic(sim_options={'user_based':False})\n",
    "cross_validate(algoItem, data, measures=[\"RMSE\", \"MAE\"], cv=5, verbose=True)             "
   ]
  },
  {
   "cell_type": "code",
   "execution_count": 5,
   "id": "4cea01f2-694b-4fbc-9064-3c2e1a1e6ae7",
   "metadata": {},
   "outputs": [],
   "source": [
    "#part e\n",
    "#testing cosine similarity"
   ]
  },
  {
   "cell_type": "code",
   "execution_count": 6,
   "id": "9cb2f455-8e86-4ec2-82b1-2d0c4bfa7b04",
   "metadata": {},
   "outputs": [
    {
     "name": "stdout",
     "output_type": "stream",
     "text": [
      "Computing the cosine similarity matrix...\n",
      "Done computing similarity matrix.\n",
      "Computing the cosine similarity matrix...\n",
      "Done computing similarity matrix.\n",
      "Computing the cosine similarity matrix...\n",
      "Done computing similarity matrix.\n",
      "Computing the cosine similarity matrix...\n",
      "Done computing similarity matrix.\n",
      "Computing the cosine similarity matrix...\n",
      "Done computing similarity matrix.\n",
      "Evaluating RMSE, MAE of algorithm KNNBasic on 5 split(s).\n",
      "\n",
      "                  Fold 1  Fold 2  Fold 3  Fold 4  Fold 5  Mean    Std     \n",
      "RMSE (testset)    0.9941  0.9966  0.9980  0.9947  0.9951  0.9957  0.0014  \n",
      "MAE (testset)     0.7732  0.7763  0.7771  0.7739  0.7735  0.7748  0.0016  \n",
      "Fit time          3.47    3.44    3.40    3.37    3.33    3.40    0.05    \n",
      "Test time         3.80    3.89    3.97    4.05    3.87    3.91    0.08    \n"
     ]
    },
    {
     "data": {
      "text/plain": [
       "{'test_rmse': array([0.99414751, 0.9965966 , 0.99803826, 0.99474698, 0.99507435]),\n",
       " 'test_mae': array([0.77319283, 0.77627841, 0.77706199, 0.77394263, 0.77347408]),\n",
       " 'fit_time': (3.4722468852996826,\n",
       "  3.4439520835876465,\n",
       "  3.402183771133423,\n",
       "  3.3726887702941895,\n",
       "  3.3315939903259277),\n",
       " 'test_time': (3.800408124923706,\n",
       "  3.885446786880493,\n",
       "  3.968975782394409,\n",
       "  4.045760869979858,\n",
       "  3.8721957206726074)}"
      ]
     },
     "execution_count": 6,
     "metadata": {},
     "output_type": "execute_result"
    }
   ],
   "source": [
    "sim_options = {\n",
    "    \"name\": \"cosine\",\n",
    "    \"user_based\": False,  # compute  similarities between items\n",
    "}\n",
    "\n",
    "algoItem = KNNBasic(sim_options=sim_options)\n",
    "\n",
    "cross_validate(algoItem, data, measures=[\"RMSE\", \"MAE\"], cv=5, verbose=True)    "
   ]
  },
  {
   "cell_type": "code",
   "execution_count": 7,
   "id": "bced3ff4-55cc-411b-8c62-afb67e1988ce",
   "metadata": {},
   "outputs": [
    {
     "name": "stdout",
     "output_type": "stream",
     "text": [
      "Computing the cosine similarity matrix...\n",
      "Done computing similarity matrix.\n",
      "Computing the cosine similarity matrix...\n",
      "Done computing similarity matrix.\n",
      "Computing the cosine similarity matrix...\n",
      "Done computing similarity matrix.\n",
      "Computing the cosine similarity matrix...\n",
      "Done computing similarity matrix.\n",
      "Computing the cosine similarity matrix...\n",
      "Done computing similarity matrix.\n",
      "Evaluating RMSE, MAE of algorithm KNNBasic on 5 split(s).\n",
      "\n",
      "                  Fold 1  Fold 2  Fold 3  Fold 4  Fold 5  Mean    Std     \n",
      "RMSE (testset)    0.9870  0.9988  0.9860  0.9932  1.0010  0.9932  0.0060  \n",
      "MAE (testset)     0.7635  0.7717  0.7607  0.7686  0.7723  0.7674  0.0046  \n",
      "Fit time          0.11    0.13    0.12    0.13    0.13    0.12    0.01    \n",
      "Test time         0.96    0.88    0.90    0.86    0.93    0.91    0.04    \n"
     ]
    },
    {
     "data": {
      "text/plain": [
       "{'test_rmse': array([0.98700058, 0.99876639, 0.9860338 , 0.99321318, 1.00102408]),\n",
       " 'test_mae': array([0.76353924, 0.77168414, 0.76069455, 0.76864627, 0.77233518]),\n",
       " 'fit_time': (0.1140291690826416,\n",
       "  0.1258690357208252,\n",
       "  0.12436199188232422,\n",
       "  0.12956500053405762,\n",
       "  0.12553024291992188),\n",
       " 'test_time': (0.9606389999389648,\n",
       "  0.8769519329071045,\n",
       "  0.8968770503997803,\n",
       "  0.8623719215393066,\n",
       "  0.930717945098877)}"
      ]
     },
     "execution_count": 7,
     "metadata": {},
     "output_type": "execute_result"
    }
   ],
   "source": [
    "#user-based\n",
    "sim_options = {\n",
    "    \"name\": \"cosine\",\n",
    "}\n",
    "\n",
    "algoUser = KNNBasic(sim_options=sim_options)\n",
    "\n",
    "cross_validate(algoUser, data, measures=[\"RMSE\", \"MAE\"], cv=5, verbose=True) "
   ]
  },
  {
   "cell_type": "code",
   "execution_count": 8,
   "id": "de3f1ffe-c3c5-44f8-b6b1-ece946c80db8",
   "metadata": {},
   "outputs": [],
   "source": [
    "#testing MSD"
   ]
  },
  {
   "cell_type": "code",
   "execution_count": 9,
   "id": "aa8e6ec2-060c-4103-ae2f-4c1d1063a6ad",
   "metadata": {},
   "outputs": [
    {
     "name": "stdout",
     "output_type": "stream",
     "text": [
      "Computing the msd similarity matrix...\n",
      "Done computing similarity matrix.\n",
      "Computing the msd similarity matrix...\n",
      "Done computing similarity matrix.\n",
      "Computing the msd similarity matrix...\n",
      "Done computing similarity matrix.\n",
      "Computing the msd similarity matrix...\n",
      "Done computing similarity matrix.\n",
      "Computing the msd similarity matrix...\n",
      "Done computing similarity matrix.\n",
      "Evaluating RMSE, MAE of algorithm KNNBasic on 5 split(s).\n",
      "\n",
      "                  Fold 1  Fold 2  Fold 3  Fold 4  Fold 5  Mean    Std     \n",
      "RMSE (testset)    0.9703  0.9716  0.9631  0.9740  0.9654  0.9689  0.0040  \n",
      "MAE (testset)     0.7475  0.7455  0.7378  0.7494  0.7430  0.7446  0.0040  \n",
      "Fit time          0.07    0.09    0.10    0.09    0.09    0.09    0.01    \n",
      "Test time         0.88    0.85    0.85    0.99    0.85    0.89    0.05    \n"
     ]
    },
    {
     "data": {
      "text/plain": [
       "{'test_rmse': array([0.97029377, 0.97161543, 0.96306052, 0.97398339, 0.96544876]),\n",
       " 'test_mae': array([0.74745465, 0.74550524, 0.73777961, 0.74940385, 0.74295651]),\n",
       " 'fit_time': (0.07329607009887695,\n",
       "  0.09470200538635254,\n",
       "  0.10356831550598145,\n",
       "  0.09160304069519043,\n",
       "  0.09243011474609375),\n",
       " 'test_time': (0.8807580471038818,\n",
       "  0.8531351089477539,\n",
       "  0.8541579246520996,\n",
       "  0.9934861660003662,\n",
       "  0.849139928817749)}"
      ]
     },
     "execution_count": 9,
     "metadata": {},
     "output_type": "execute_result"
    }
   ],
   "source": [
    "#testing user-based collaborative filtering\n",
    "sim_options = {\n",
    "    \"name\": \"msd\",\n",
    "}\n",
    "\n",
    "algoUser = KNNBasic(sim_options=sim_options)\n",
    "\n",
    "cross_validate(algoUser, data, measures=[\"RMSE\", \"MAE\"], cv=5, verbose=True) "
   ]
  },
  {
   "cell_type": "code",
   "execution_count": 10,
   "id": "ccdd70e5-7466-4699-9e6e-808685542d23",
   "metadata": {},
   "outputs": [
    {
     "name": "stdout",
     "output_type": "stream",
     "text": [
      "Computing the msd similarity matrix...\n",
      "Done computing similarity matrix.\n",
      "Computing the msd similarity matrix...\n",
      "Done computing similarity matrix.\n",
      "Computing the msd similarity matrix...\n",
      "Done computing similarity matrix.\n",
      "Computing the msd similarity matrix...\n",
      "Done computing similarity matrix.\n",
      "Computing the msd similarity matrix...\n",
      "Done computing similarity matrix.\n",
      "Evaluating RMSE, MAE of algorithm KNNBasic on 5 split(s).\n",
      "\n",
      "                  Fold 1  Fold 2  Fold 3  Fold 4  Fold 5  Mean    Std     \n",
      "RMSE (testset)    0.9348  0.9228  0.9362  0.9502  0.9258  0.9340  0.0096  \n",
      "MAE (testset)     0.7207  0.7139  0.7220  0.7312  0.7152  0.7206  0.0061  \n",
      "Fit time          2.22    2.25    2.31    2.31    2.27    2.27    0.03    \n",
      "Test time         3.89    4.14    4.15    3.91    4.22    4.06    0.13    \n"
     ]
    },
    {
     "data": {
      "text/plain": [
       "{'test_rmse': array([0.93481532, 0.92277909, 0.93619186, 0.95021695, 0.92583604]),\n",
       " 'test_mae': array([0.72065623, 0.71388631, 0.72201983, 0.7312046 , 0.71522864]),\n",
       " 'fit_time': (2.2234301567077637,\n",
       "  2.2479817867279053,\n",
       "  2.3083062171936035,\n",
       "  2.3065075874328613,\n",
       "  2.274857997894287),\n",
       " 'test_time': (3.893482208251953,\n",
       "  4.141951084136963,\n",
       "  4.149274110794067,\n",
       "  3.9102959632873535,\n",
       "  4.2152259349823)}"
      ]
     },
     "execution_count": 10,
     "metadata": {},
     "output_type": "execute_result"
    }
   ],
   "source": [
    "#testing item-based collaborative filtering\n",
    "sim_options = {\n",
    "    \"name\": \"msd\",\n",
    "    \"user_based\": False,  # compute  similarities between items\n",
    "}\n",
    "\n",
    "algoItem = KNNBasic(sim_options=sim_options)\n",
    "\n",
    "cross_validate(algoItem, data, measures=[\"RMSE\", \"MAE\"], cv=5, verbose=True)  "
   ]
  },
  {
   "cell_type": "code",
   "execution_count": 11,
   "id": "d9d81ea6-044f-4f13-94be-f475f6a6c9f1",
   "metadata": {},
   "outputs": [],
   "source": [
    "#testing pearson"
   ]
  },
  {
   "cell_type": "code",
   "execution_count": 12,
   "id": "5f36608a-ed24-4c43-8bc6-4e0656358def",
   "metadata": {},
   "outputs": [
    {
     "name": "stdout",
     "output_type": "stream",
     "text": [
      "Computing the pearson similarity matrix...\n",
      "Done computing similarity matrix.\n",
      "Computing the pearson similarity matrix...\n",
      "Done computing similarity matrix.\n",
      "Computing the pearson similarity matrix...\n",
      "Done computing similarity matrix.\n",
      "Computing the pearson similarity matrix...\n",
      "Done computing similarity matrix.\n",
      "Computing the pearson similarity matrix...\n",
      "Done computing similarity matrix.\n",
      "Evaluating RMSE, MAE of algorithm KNNBasic on 5 split(s).\n",
      "\n",
      "                  Fold 1  Fold 2  Fold 3  Fold 4  Fold 5  Mean    Std     \n",
      "RMSE (testset)    0.9925  0.9963  1.0117  0.9986  0.9922  0.9983  0.0071  \n",
      "MAE (testset)     0.7670  0.7734  0.7854  0.7711  0.7657  0.7725  0.0070  \n",
      "Fit time          0.16    0.17    0.17    0.17    0.17    0.17    0.01    \n",
      "Test time         0.86    0.84    0.87    0.99    0.87    0.89    0.05    \n"
     ]
    },
    {
     "data": {
      "text/plain": [
       "{'test_rmse': array([0.99254564, 0.9962501 , 1.01169251, 0.9986422 , 0.99220334]),\n",
       " 'test_mae': array([0.76699691, 0.77337056, 0.78542992, 0.77112509, 0.76574757]),\n",
       " 'fit_time': (0.15554499626159668,\n",
       "  0.16992783546447754,\n",
       "  0.16882610321044922,\n",
       "  0.16660308837890625,\n",
       "  0.16662812232971191),\n",
       " 'test_time': (0.8604962825775146,\n",
       "  0.8426609039306641,\n",
       "  0.869642972946167,\n",
       "  0.9903018474578857,\n",
       "  0.865358829498291)}"
      ]
     },
     "execution_count": 12,
     "metadata": {},
     "output_type": "execute_result"
    }
   ],
   "source": [
    "#testing user-based collaborative filtering\n",
    "sim_options = {\n",
    "    \"name\": \"pearson\",\n",
    "}\n",
    "\n",
    "algoUser = KNNBasic(sim_options=sim_options)\n",
    "\n",
    "cross_validate(algoUser, data, measures=[\"RMSE\", \"MAE\"], cv=5, verbose=True) "
   ]
  },
  {
   "cell_type": "code",
   "execution_count": 13,
   "id": "1265ce46-87ea-4690-9d52-a344ff564a98",
   "metadata": {},
   "outputs": [
    {
     "name": "stdout",
     "output_type": "stream",
     "text": [
      "Computing the pearson similarity matrix...\n",
      "Done computing similarity matrix.\n",
      "Computing the pearson similarity matrix...\n",
      "Done computing similarity matrix.\n",
      "Computing the pearson similarity matrix...\n",
      "Done computing similarity matrix.\n",
      "Computing the pearson similarity matrix...\n",
      "Done computing similarity matrix.\n",
      "Computing the pearson similarity matrix...\n",
      "Done computing similarity matrix.\n",
      "Evaluating RMSE, MAE of algorithm KNNBasic on 5 split(s).\n",
      "\n",
      "                  Fold 1  Fold 2  Fold 3  Fold 4  Fold 5  Mean    Std     \n",
      "RMSE (testset)    0.9807  0.9970  0.9870  0.9857  0.9942  0.9889  0.0059  \n",
      "MAE (testset)     0.7628  0.7742  0.7656  0.7660  0.7694  0.7676  0.0039  \n",
      "Fit time          4.43    4.45    4.27    4.30    4.80    4.45    0.19    \n",
      "Test time         3.69    3.92    4.12    5.19    4.11    4.21    0.52    \n"
     ]
    },
    {
     "data": {
      "text/plain": [
       "{'test_rmse': array([0.98069163, 0.99696707, 0.9869751 , 0.98573605, 0.99415024]),\n",
       " 'test_mae': array([0.76280413, 0.77420394, 0.76563054, 0.76598113, 0.76944392]),\n",
       " 'fit_time': (4.431215047836304,\n",
       "  4.446830749511719,\n",
       "  4.265604019165039,\n",
       "  4.297079801559448,\n",
       "  4.801638126373291),\n",
       " 'test_time': (3.688210964202881,\n",
       "  3.924431085586548,\n",
       "  4.116642951965332,\n",
       "  5.189319849014282,\n",
       "  4.113773822784424)}"
      ]
     },
     "execution_count": 13,
     "metadata": {},
     "output_type": "execute_result"
    }
   ],
   "source": [
    "#testing item-based collaborative filtering\n",
    "sim_options = {\n",
    "    \"name\": \"pearson\",\n",
    "    \"user_based\": False,  # compute  similarities between items\n",
    "}\n",
    "\n",
    "algoItem = KNNBasic(sim_options=sim_options)\n",
    "\n",
    "cross_validate(algoItem, data, measures=[\"RMSE\", \"MAE\"], cv=5, verbose=True)  "
   ]
  },
  {
   "cell_type": "code",
   "execution_count": null,
   "id": "0fc0a4b1-709d-4cc2-9da4-6661c3573455",
   "metadata": {},
   "outputs": [],
   "source": [
    "yValUserK = []"
   ]
  },
  {
   "cell_type": "code",
   "execution_count": 15,
   "id": "5858c6df-893e-4da5-9166-77a03e2c248b",
   "metadata": {},
   "outputs": [
    {
     "name": "stdout",
     "output_type": "stream",
     "text": [
      "Computing the pearson similarity matrix...\n",
      "Done computing similarity matrix.\n",
      "Computing the pearson similarity matrix...\n",
      "Done computing similarity matrix.\n",
      "Computing the pearson similarity matrix...\n",
      "Done computing similarity matrix.\n",
      "Computing the pearson similarity matrix...\n",
      "Done computing similarity matrix.\n",
      "Computing the pearson similarity matrix...\n",
      "Done computing similarity matrix.\n",
      "Evaluating RMSE, MAE of algorithm KNNBasic on 5 split(s).\n",
      "\n",
      "                  Fold 1  Fold 2  Fold 3  Fold 4  Fold 5  Mean    Std     \n",
      "RMSE (testset)    0.9921  0.9756  1.0024  0.9966  0.9855  0.9904  0.0092  \n",
      "MAE (testset)     0.7713  0.7559  0.7796  0.7730  0.7634  0.7686  0.0082  \n",
      "Fit time          4.53    4.68    4.94    4.44    4.54    4.63    0.18    \n",
      "Test time         4.34    4.34    4.20    5.04    4.92    4.57    0.34    \n",
      "None\n"
     ]
    }
   ],
   "source": [
    "#testing item-based collaborative filtering\n",
    "# sim_options = {\n",
    "#     \"name\": \"pearson\",\n",
    "#     \"user_based\": False,  # compute  similarities between items\n",
    "# }\n",
    "\n",
    "algo = KNNBasic()\n",
    "algo.k = 10\n",
    "\n",
    "tempVal = cross_validate(algoItem, data, measures=[\"RMSE\", \"MAE\"], cv=5, verbose=True)  \n",
    "\n",
    "yValUserK.append(mean(tempVal.get('test_rmse')))"
   ]
  },
  {
   "cell_type": "code",
   "execution_count": 20,
   "id": "8832168d-4418-4f7e-98be-2242c4f6a41a",
   "metadata": {},
   "outputs": [
    {
     "name": "stdout",
     "output_type": "stream",
     "text": [
      "0.9904358353451899\n"
     ]
    }
   ],
   "source": [
    "mean(tempVal.get('test_rmse'))"
   ]
  },
  {
   "cell_type": "code",
   "execution_count": 16,
   "id": "d1576a87-fc4e-4341-867d-1534d4cbcb53",
   "metadata": {},
   "outputs": [
    {
     "name": "stdout",
     "output_type": "stream",
     "text": [
      "Computing the pearson similarity matrix...\n",
      "Done computing similarity matrix.\n",
      "Computing the pearson similarity matrix...\n",
      "Done computing similarity matrix.\n",
      "Computing the pearson similarity matrix...\n",
      "Done computing similarity matrix.\n",
      "Computing the pearson similarity matrix...\n",
      "Done computing similarity matrix.\n",
      "Computing the pearson similarity matrix...\n",
      "Done computing similarity matrix.\n",
      "Evaluating RMSE, MAE of algorithm KNNBasic on 5 split(s).\n",
      "\n",
      "                  Fold 1  Fold 2  Fold 3  Fold 4  Fold 5  Mean    Std     \n",
      "RMSE (testset)    0.9955  0.9861  0.9837  0.9948  0.9878  0.9896  0.0047  \n",
      "MAE (testset)     0.7720  0.7674  0.7612  0.7721  0.7670  0.7679  0.0040  \n",
      "Fit time          4.66    4.58    4.51    4.55    4.59    4.58    0.05    \n",
      "Test time         4.70    4.51    4.76    4.88    5.01    4.77    0.17    \n"
     ]
    },
    {
     "data": {
      "text/plain": [
       "{'test_rmse': array([0.99552408, 0.98606251, 0.98367787, 0.99477056, 0.98783299]),\n",
       " 'test_mae': array([0.77203679, 0.76735978, 0.76119677, 0.77210976, 0.76699782]),\n",
       " 'fit_time': (4.663649082183838,\n",
       "  4.58270001411438,\n",
       "  4.509123086929321,\n",
       "  4.552075147628784,\n",
       "  4.5938942432403564),\n",
       " 'test_time': (4.700338125228882,\n",
       "  4.513627052307129,\n",
       "  4.762472867965698,\n",
       "  4.88136887550354,\n",
       "  5.013513088226318)}"
      ]
     },
     "execution_count": 16,
     "metadata": {},
     "output_type": "execute_result"
    }
   ],
   "source": [
    "algo = KNNBasic()\n",
    "algo.k = 10\n",
    "\n",
    "tempVal = cross_validate(algoItem, data, measures=[\"RMSE\", \"MAE\"], cv=5, verbose=True)  \n",
    "\n",
    "yValUserK.append(mean(tempVal.get('test_rmse')))"
   ]
  },
  {
   "cell_type": "code",
   "execution_count": 17,
   "id": "50824e85-c295-44a9-b6a2-c1fc50555657",
   "metadata": {},
   "outputs": [
    {
     "name": "stdout",
     "output_type": "stream",
     "text": [
      "Computing the pearson similarity matrix...\n",
      "Done computing similarity matrix.\n",
      "Computing the pearson similarity matrix...\n",
      "Done computing similarity matrix.\n",
      "Computing the pearson similarity matrix...\n",
      "Done computing similarity matrix.\n",
      "Computing the pearson similarity matrix...\n",
      "Done computing similarity matrix.\n",
      "Computing the pearson similarity matrix...\n",
      "Done computing similarity matrix.\n",
      "Evaluating RMSE, MAE of algorithm KNNBasic on 5 split(s).\n",
      "\n",
      "                  Fold 1  Fold 2  Fold 3  Fold 4  Fold 5  Mean    Std     \n",
      "RMSE (testset)    0.9961  0.9865  0.9889  0.9821  0.9936  0.9895  0.0050  \n",
      "MAE (testset)     0.7714  0.7663  0.7684  0.7626  0.7722  0.7682  0.0035  \n",
      "Fit time          4.58    4.55    4.62    4.57    4.50    4.56    0.04    \n",
      "Test time         4.54    4.61    4.58    4.61    4.57    4.58    0.03    \n"
     ]
    },
    {
     "data": {
      "text/plain": [
       "{'test_rmse': array([0.99613929, 0.98653486, 0.98893302, 0.98211639, 0.99363567]),\n",
       " 'test_mae': array([0.77137036, 0.76629573, 0.76837505, 0.76264436, 0.77224169]),\n",
       " 'fit_time': (4.584772825241089,\n",
       "  4.549829959869385,\n",
       "  4.617577075958252,\n",
       "  4.571676015853882,\n",
       "  4.496346712112427),\n",
       " 'test_time': (4.541009902954102,\n",
       "  4.613574981689453,\n",
       "  4.579230785369873,\n",
       "  4.609238862991333,\n",
       "  4.567248821258545)}"
      ]
     },
     "execution_count": 17,
     "metadata": {},
     "output_type": "execute_result"
    }
   ],
   "source": [
    "algo = KNNBasic()\n",
    "algo.k = 10\n",
    "\n",
    "tempVal = cross_validate(algoItem, data, measures=[\"RMSE\", \"MAE\"], cv=5, verbose=True)  \n",
    "\n",
    "yValUserK.append(mean(tempVal.get('test_rmse')))"
   ]
  },
  {
   "cell_type": "code",
   "execution_count": 18,
   "id": "ef7997d9-fd83-4ce9-a08a-72ca092a8647",
   "metadata": {},
   "outputs": [
    {
     "name": "stdout",
     "output_type": "stream",
     "text": [
      "Computing the pearson similarity matrix...\n",
      "Done computing similarity matrix.\n",
      "Computing the pearson similarity matrix...\n",
      "Done computing similarity matrix.\n",
      "Computing the pearson similarity matrix...\n",
      "Done computing similarity matrix.\n",
      "Computing the pearson similarity matrix...\n",
      "Done computing similarity matrix.\n",
      "Computing the pearson similarity matrix...\n",
      "Done computing similarity matrix.\n",
      "Evaluating RMSE, MAE of algorithm KNNBasic on 5 split(s).\n",
      "\n",
      "                  Fold 1  Fold 2  Fold 3  Fold 4  Fold 5  Mean    Std     \n",
      "RMSE (testset)    0.9832  0.9914  0.9985  0.9866  0.9867  0.9893  0.0053  \n",
      "MAE (testset)     0.7628  0.7704  0.7735  0.7663  0.7667  0.7679  0.0037  \n",
      "Fit time          4.61    4.46    4.47    4.57    4.51    4.52    0.06    \n",
      "Test time         4.57    4.59    4.69    4.61    4.62    4.61    0.04    \n"
     ]
    },
    {
     "data": {
      "text/plain": [
       "{'test_rmse': array([0.9831513 , 0.99144497, 0.9984738 , 0.98658179, 0.98669524]),\n",
       " 'test_mae': array([0.76283937, 0.77040796, 0.77349709, 0.76628743, 0.76667269]),\n",
       " 'fit_time': (4.608442068099976,\n",
       "  4.462143898010254,\n",
       "  4.467422962188721,\n",
       "  4.571039915084839,\n",
       "  4.514518976211548),\n",
       " 'test_time': (4.569016218185425,\n",
       "  4.5904340744018555,\n",
       "  4.689219951629639,\n",
       "  4.607687950134277,\n",
       "  4.616173982620239)}"
      ]
     },
     "execution_count": 18,
     "metadata": {},
     "output_type": "execute_result"
    }
   ],
   "source": [
    "algo = KNNBasic()\n",
    "algo.k = 10\n",
    "\n",
    "tempVal = cross_validate(algoItem, data, measures=[\"RMSE\", \"MAE\"], cv=5, verbose=True)  \n",
    "\n",
    "yValUserK.append(mean(tempVal.get('test_rmse')))"
   ]
  },
  {
   "cell_type": "code",
   "execution_count": 20,
   "id": "80c34eaf-be3a-4add-82a1-ba0055fa4676",
   "metadata": {},
   "outputs": [
    {
     "name": "stdout",
     "output_type": "stream",
     "text": [
      "Computing the pearson similarity matrix...\n",
      "Done computing similarity matrix.\n",
      "Computing the pearson similarity matrix...\n",
      "Done computing similarity matrix.\n",
      "Computing the pearson similarity matrix...\n",
      "Done computing similarity matrix.\n",
      "Computing the pearson similarity matrix...\n",
      "Done computing similarity matrix.\n",
      "Computing the pearson similarity matrix...\n",
      "Done computing similarity matrix.\n",
      "Evaluating RMSE, MAE of algorithm KNNBasic on 5 split(s).\n",
      "\n",
      "                  Fold 1  Fold 2  Fold 3  Fold 4  Fold 5  Mean    Std     \n",
      "RMSE (testset)    0.9857  0.9915  0.9846  0.9910  0.9911  0.9888  0.0030  \n",
      "MAE (testset)     0.7641  0.7711  0.7669  0.7692  0.7676  0.7678  0.0023  \n",
      "Fit time          4.89    4.65    4.67    4.62    4.62    4.69    0.10    \n",
      "Test time         4.64    4.57    4.78    4.69    4.67    4.67    0.07    \n"
     ]
    }
   ],
   "source": [
    "algo = KNNBasic()\n",
    "algo.k = 10\n",
    "\n",
    "tempVal = cross_validate(algoItem, data, measures=[\"RMSE\", \"MAE\"], cv=5, verbose=True)  \n",
    "\n",
    "yValUserK.append(mean(tempVal.get('test_rmse')))"
   ]
  },
  {
   "cell_type": "code",
   "execution_count": 24,
   "id": "355d04c9-2a3c-4898-aa68-3fc000627892",
   "metadata": {},
   "outputs": [
    {
     "data": {
      "text/plain": [
       "dict_keys"
      ]
     },
     "execution_count": 24,
     "metadata": {},
     "output_type": "execute_result"
    }
   ],
   "source": [
    "algo = KNNBasic()\n",
    "algo.k = 10\n",
    "\n",
    "tempVal = cross_validate(algoItem, data, measures=[\"RMSE\", \"MAE\"], cv=5, verbose=True)  \n",
    "\n",
    "yValUserK.append(mean(tempVal.get('test_rmse')))"
   ]
  },
  {
   "cell_type": "code",
   "execution_count": 25,
   "id": "19a4ba54-f9f1-4344-8730-a25ab7501ef1",
   "metadata": {},
   "outputs": [
    {
     "name": "stdout",
     "output_type": "stream",
     "text": [
      "Computing the pearson similarity matrix...\n",
      "Done computing similarity matrix.\n",
      "Computing the pearson similarity matrix...\n",
      "Done computing similarity matrix.\n",
      "Computing the pearson similarity matrix...\n",
      "Done computing similarity matrix.\n",
      "Computing the pearson similarity matrix...\n",
      "Done computing similarity matrix.\n",
      "Computing the pearson similarity matrix...\n",
      "Done computing similarity matrix.\n",
      "Evaluating RMSE, MAE of algorithm KNNBasic on 5 split(s).\n",
      "\n",
      "                  Fold 1  Fold 2  Fold 3  Fold 4  Fold 5  Mean    Std     \n",
      "RMSE (testset)    0.9861  0.9928  0.9927  0.9942  0.9827  0.9897  0.0045  \n",
      "MAE (testset)     0.7631  0.7709  0.7687  0.7726  0.7661  0.7683  0.0034  \n",
      "Fit time          5.17    5.09    5.00    5.82    4.67    5.15    0.38    \n",
      "Test time         4.71    5.06    5.23    5.76    5.22    5.20    0.34    \n",
      "Computing the pearson similarity matrix...\n",
      "Done computing similarity matrix.\n",
      "Computing the pearson similarity matrix...\n",
      "Done computing similarity matrix.\n",
      "Computing the pearson similarity matrix...\n",
      "Done computing similarity matrix.\n",
      "Computing the pearson similarity matrix...\n",
      "Done computing similarity matrix.\n",
      "Computing the pearson similarity matrix...\n",
      "Done computing similarity matrix.\n",
      "Evaluating RMSE, MAE of algorithm KNNBasic on 5 split(s).\n",
      "\n",
      "                  Fold 1  Fold 2  Fold 3  Fold 4  Fold 5  Mean    Std     \n",
      "RMSE (testset)    0.9946  0.9853  0.9829  0.9953  0.9888  0.9894  0.0049  \n",
      "MAE (testset)     0.7699  0.7645  0.7630  0.7733  0.7688  0.7679  0.0037  \n",
      "Fit time          4.51    4.31    4.31    4.33    4.26    4.34    0.09    \n",
      "Test time         3.93    3.92    3.98    3.97    4.08    3.98    0.06    \n",
      "Computing the pearson similarity matrix...\n",
      "Done computing similarity matrix.\n",
      "Computing the pearson similarity matrix...\n",
      "Done computing similarity matrix.\n",
      "Computing the pearson similarity matrix...\n",
      "Done computing similarity matrix.\n",
      "Computing the pearson similarity matrix...\n",
      "Done computing similarity matrix.\n",
      "Computing the pearson similarity matrix...\n",
      "Done computing similarity matrix.\n",
      "Evaluating RMSE, MAE of algorithm KNNBasic on 5 split(s).\n",
      "\n",
      "                  Fold 1  Fold 2  Fold 3  Fold 4  Fold 5  Mean    Std     \n",
      "RMSE (testset)    0.9912  0.9956  0.9934  0.9871  0.9848  0.9904  0.0040  \n",
      "MAE (testset)     0.7689  0.7744  0.7692  0.7647  0.7642  0.7683  0.0037  \n",
      "Fit time          4.30    4.43    4.64    4.81    4.46    4.53    0.18    \n",
      "Test time         4.21    4.27    5.39    5.13    4.33    4.67    0.49    \n",
      "Computing the pearson similarity matrix...\n",
      "Done computing similarity matrix.\n",
      "Computing the pearson similarity matrix...\n",
      "Done computing similarity matrix.\n",
      "Computing the pearson similarity matrix...\n",
      "Done computing similarity matrix.\n",
      "Computing the pearson similarity matrix...\n",
      "Done computing similarity matrix.\n",
      "Computing the pearson similarity matrix...\n",
      "Done computing similarity matrix.\n",
      "Evaluating RMSE, MAE of algorithm KNNBasic on 5 split(s).\n",
      "\n",
      "                  Fold 1  Fold 2  Fold 3  Fold 4  Fold 5  Mean    Std     \n",
      "RMSE (testset)    0.9914  0.9911  0.9989  0.9865  0.9795  0.9895  0.0064  \n",
      "MAE (testset)     0.7701  0.7700  0.7780  0.7647  0.7585  0.7683  0.0065  \n",
      "Fit time          4.98    4.50    4.62    4.35    4.97    4.69    0.25    \n",
      "Test time         4.99    4.90    4.05    3.98    5.06    4.59    0.48    \n",
      "Computing the pearson similarity matrix...\n",
      "Done computing similarity matrix.\n",
      "Computing the pearson similarity matrix...\n",
      "Done computing similarity matrix.\n",
      "Computing the pearson similarity matrix...\n",
      "Done computing similarity matrix.\n",
      "Computing the pearson similarity matrix...\n",
      "Done computing similarity matrix.\n",
      "Computing the pearson similarity matrix...\n",
      "Done computing similarity matrix.\n",
      "Evaluating RMSE, MAE of algorithm KNNBasic on 5 split(s).\n",
      "\n",
      "                  Fold 1  Fold 2  Fold 3  Fold 4  Fold 5  Mean    Std     \n",
      "RMSE (testset)    0.9906  0.9931  0.9900  0.9841  0.9932  0.9902  0.0033  \n",
      "MAE (testset)     0.7692  0.7689  0.7677  0.7650  0.7707  0.7683  0.0019  \n",
      "Fit time          4.23    4.36    4.60    4.38    4.70    4.45    0.17    \n",
      "Test time         4.12    4.93    4.13    4.54    4.72    4.49    0.32    \n",
      "Computing the pearson similarity matrix...\n",
      "Done computing similarity matrix.\n",
      "Computing the pearson similarity matrix...\n",
      "Done computing similarity matrix.\n",
      "Computing the pearson similarity matrix...\n",
      "Done computing similarity matrix.\n",
      "Computing the pearson similarity matrix...\n",
      "Done computing similarity matrix.\n",
      "Computing the pearson similarity matrix...\n",
      "Done computing similarity matrix.\n",
      "Evaluating RMSE, MAE of algorithm KNNBasic on 5 split(s).\n",
      "\n",
      "                  Fold 1  Fold 2  Fold 3  Fold 4  Fold 5  Mean    Std     \n",
      "RMSE (testset)    0.9891  0.9834  0.9934  0.9916  0.9901  0.9895  0.0034  \n",
      "MAE (testset)     0.7680  0.7660  0.7725  0.7694  0.7649  0.7682  0.0027  \n",
      "Fit time          4.48    4.59    4.47    4.46    4.47    4.49    0.05    \n",
      "Test time         4.58    4.59    4.32    4.59    4.65    4.54    0.12    \n",
      "Computing the pearson similarity matrix...\n",
      "Done computing similarity matrix.\n",
      "Computing the pearson similarity matrix...\n",
      "Done computing similarity matrix.\n",
      "Computing the pearson similarity matrix...\n",
      "Done computing similarity matrix.\n",
      "Computing the pearson similarity matrix...\n",
      "Done computing similarity matrix.\n",
      "Computing the pearson similarity matrix...\n",
      "Done computing similarity matrix.\n",
      "Evaluating RMSE, MAE of algorithm KNNBasic on 5 split(s).\n",
      "\n",
      "                  Fold 1  Fold 2  Fold 3  Fold 4  Fold 5  Mean    Std     \n",
      "RMSE (testset)    0.9898  0.9861  0.9924  0.9978  0.9830  0.9898  0.0051  \n",
      "MAE (testset)     0.7686  0.7651  0.7696  0.7736  0.7632  0.7680  0.0036  \n",
      "Fit time          4.59    4.29    4.29    4.32    4.51    4.40    0.13    \n",
      "Test time         4.19    4.21    4.06    4.81    4.11    4.27    0.27    \n",
      "Computing the pearson similarity matrix...\n",
      "Done computing similarity matrix.\n",
      "Computing the pearson similarity matrix...\n",
      "Done computing similarity matrix.\n",
      "Computing the pearson similarity matrix...\n",
      "Done computing similarity matrix.\n",
      "Computing the pearson similarity matrix...\n",
      "Done computing similarity matrix.\n",
      "Computing the pearson similarity matrix...\n",
      "Done computing similarity matrix.\n",
      "Evaluating RMSE, MAE of algorithm KNNBasic on 5 split(s).\n",
      "\n",
      "                  Fold 1  Fold 2  Fold 3  Fold 4  Fold 5  Mean    Std     \n",
      "RMSE (testset)    0.9867  0.9787  0.9966  0.9917  0.9944  0.9896  0.0064  \n",
      "MAE (testset)     0.7658  0.7605  0.7730  0.7693  0.7704  0.7678  0.0043  \n",
      "Fit time          4.61    4.53    5.94    4.59    4.41    4.82    0.57    \n",
      "Test time         4.15    5.25    5.40    4.18    4.23    4.64    0.56    \n",
      "Computing the pearson similarity matrix...\n",
      "Done computing similarity matrix.\n",
      "Computing the pearson similarity matrix...\n",
      "Done computing similarity matrix.\n",
      "Computing the pearson similarity matrix...\n",
      "Done computing similarity matrix.\n",
      "Computing the pearson similarity matrix...\n",
      "Done computing similarity matrix.\n",
      "Computing the pearson similarity matrix...\n",
      "Done computing similarity matrix.\n",
      "Evaluating RMSE, MAE of algorithm KNNBasic on 5 split(s).\n",
      "\n",
      "                  Fold 1  Fold 2  Fold 3  Fold 4  Fold 5  Mean    Std     \n",
      "RMSE (testset)    0.9934  0.9902  0.9859  0.9836  0.9924  0.9891  0.0038  \n",
      "MAE (testset)     0.7701  0.7708  0.7668  0.7631  0.7690  0.7680  0.0028  \n",
      "Fit time          4.43    4.67    4.44    4.40    4.49    4.48    0.09    \n",
      "Test time         4.37    4.87    4.29    4.43    4.21    4.43    0.23    \n",
      "Computing the pearson similarity matrix...\n",
      "Done computing similarity matrix.\n",
      "Computing the pearson similarity matrix...\n",
      "Done computing similarity matrix.\n",
      "Computing the pearson similarity matrix...\n",
      "Done computing similarity matrix.\n",
      "Computing the pearson similarity matrix...\n",
      "Done computing similarity matrix.\n",
      "Computing the pearson similarity matrix...\n",
      "Done computing similarity matrix.\n",
      "Evaluating RMSE, MAE of algorithm KNNBasic on 5 split(s).\n",
      "\n",
      "                  Fold 1  Fold 2  Fold 3  Fold 4  Fold 5  Mean    Std     \n",
      "RMSE (testset)    0.9883  0.9805  0.9993  0.9882  0.9897  0.9892  0.0060  \n",
      "MAE (testset)     0.7662  0.7612  0.7744  0.7678  0.7675  0.7674  0.0042  \n",
      "Fit time          4.39    4.57    4.70    4.70    4.80    4.63    0.14    \n",
      "Test time         4.63    4.06    5.19    5.21    3.86    4.59    0.56    \n",
      "Computing the pearson similarity matrix...\n",
      "Done computing similarity matrix.\n",
      "Computing the pearson similarity matrix...\n",
      "Done computing similarity matrix.\n",
      "Computing the pearson similarity matrix...\n",
      "Done computing similarity matrix.\n",
      "Computing the pearson similarity matrix...\n",
      "Done computing similarity matrix.\n",
      "Computing the pearson similarity matrix...\n",
      "Done computing similarity matrix.\n",
      "Evaluating RMSE, MAE of algorithm KNNBasic on 5 split(s).\n",
      "\n",
      "                  Fold 1  Fold 2  Fold 3  Fold 4  Fold 5  Mean    Std     \n",
      "RMSE (testset)    0.9921  0.9878  0.9849  0.9942  0.9880  0.9894  0.0033  \n",
      "MAE (testset)     0.7705  0.7660  0.7653  0.7710  0.7680  0.7681  0.0023  \n",
      "Fit time          4.44    4.37    4.38    4.45    4.34    4.40    0.04    \n",
      "Test time         4.39    4.14    5.16    4.36    4.31    4.47    0.36    \n",
      "Computing the pearson similarity matrix...\n",
      "Done computing similarity matrix.\n",
      "Computing the pearson similarity matrix...\n",
      "Done computing similarity matrix.\n",
      "Computing the pearson similarity matrix...\n",
      "Done computing similarity matrix.\n",
      "Computing the pearson similarity matrix...\n",
      "Done computing similarity matrix.\n",
      "Computing the pearson similarity matrix...\n",
      "Done computing similarity matrix.\n",
      "Evaluating RMSE, MAE of algorithm KNNBasic on 5 split(s).\n",
      "\n",
      "                  Fold 1  Fold 2  Fold 3  Fold 4  Fold 5  Mean    Std     \n",
      "RMSE (testset)    0.9926  0.9893  0.9946  0.9859  0.9875  0.9900  0.0032  \n",
      "MAE (testset)     0.7695  0.7672  0.7717  0.7671  0.7688  0.7689  0.0017  \n",
      "Fit time          4.45    4.65    5.67    4.81    6.27    5.17    0.69    \n",
      "Test time         4.29    5.35    3.98    6.08    6.55    5.25    0.99    \n",
      "Computing the pearson similarity matrix...\n",
      "Done computing similarity matrix.\n",
      "Computing the pearson similarity matrix...\n",
      "Done computing similarity matrix.\n",
      "Computing the pearson similarity matrix...\n",
      "Done computing similarity matrix.\n",
      "Computing the pearson similarity matrix...\n",
      "Done computing similarity matrix.\n",
      "Computing the pearson similarity matrix...\n",
      "Done computing similarity matrix.\n",
      "Evaluating RMSE, MAE of algorithm KNNBasic on 5 split(s).\n",
      "\n",
      "                  Fold 1  Fold 2  Fold 3  Fold 4  Fold 5  Mean    Std     \n",
      "RMSE (testset)    0.9930  0.9896  0.9911  0.9840  0.9918  0.9899  0.0032  \n",
      "MAE (testset)     0.7717  0.7685  0.7693  0.7631  0.7693  0.7684  0.0029  \n",
      "Fit time          6.12    7.93    6.29    5.28    5.18    6.16    0.99    \n",
      "Test time         8.93    7.17    7.44    5.70    5.80    7.01    1.19    \n",
      "Computing the pearson similarity matrix...\n",
      "Done computing similarity matrix.\n",
      "Computing the pearson similarity matrix...\n",
      "Done computing similarity matrix.\n",
      "Computing the pearson similarity matrix...\n",
      "Done computing similarity matrix.\n",
      "Computing the pearson similarity matrix...\n",
      "Done computing similarity matrix.\n",
      "Computing the pearson similarity matrix...\n",
      "Done computing similarity matrix.\n",
      "Evaluating RMSE, MAE of algorithm KNNBasic on 5 split(s).\n",
      "\n",
      "                  Fold 1  Fold 2  Fold 3  Fold 4  Fold 5  Mean    Std     \n",
      "RMSE (testset)    0.9941  0.9909  0.9878  0.9849  0.9873  0.9890  0.0032  \n",
      "MAE (testset)     0.7700  0.7684  0.7663  0.7658  0.7689  0.7679  0.0016  \n",
      "Fit time          5.12    5.13    4.33    4.47    4.39    4.69    0.36    \n",
      "Test time         5.69    5.49    4.22    4.33    4.24    4.79    0.65    \n",
      "Computing the pearson similarity matrix...\n",
      "Done computing similarity matrix.\n",
      "Computing the pearson similarity matrix...\n",
      "Done computing similarity matrix.\n",
      "Computing the pearson similarity matrix...\n",
      "Done computing similarity matrix.\n",
      "Computing the pearson similarity matrix...\n",
      "Done computing similarity matrix.\n",
      "Computing the pearson similarity matrix...\n",
      "Done computing similarity matrix.\n",
      "Evaluating RMSE, MAE of algorithm KNNBasic on 5 split(s).\n",
      "\n",
      "                  Fold 1  Fold 2  Fold 3  Fold 4  Fold 5  Mean    Std     \n",
      "RMSE (testset)    0.9876  0.9925  0.9852  0.9829  0.9970  0.9891  0.0051  \n",
      "MAE (testset)     0.7667  0.7710  0.7666  0.7621  0.7715  0.7676  0.0034  \n",
      "Fit time          4.44    4.41    4.38    4.41    4.41    4.41    0.02    \n",
      "Test time         4.23    4.37    6.03    4.36    4.28    4.65    0.69    \n",
      "Computing the pearson similarity matrix...\n",
      "Done computing similarity matrix.\n",
      "Computing the pearson similarity matrix...\n",
      "Done computing similarity matrix.\n",
      "Computing the pearson similarity matrix...\n",
      "Done computing similarity matrix.\n",
      "Computing the pearson similarity matrix...\n",
      "Done computing similarity matrix.\n",
      "Computing the pearson similarity matrix...\n",
      "Done computing similarity matrix.\n",
      "Evaluating RMSE, MAE of algorithm KNNBasic on 5 split(s).\n",
      "\n",
      "                  Fold 1  Fold 2  Fold 3  Fold 4  Fold 5  Mean    Std     \n",
      "RMSE (testset)    0.9900  0.9851  0.9970  0.9887  0.9909  0.9904  0.0039  \n",
      "MAE (testset)     0.7677  0.7646  0.7752  0.7660  0.7698  0.7687  0.0037  \n",
      "Fit time          4.42    4.50    4.52    4.54    4.51    4.50    0.04    \n",
      "Test time         4.53    4.25    4.47    4.37    4.34    4.39    0.10    \n",
      "Computing the pearson similarity matrix...\n",
      "Done computing similarity matrix.\n",
      "Computing the pearson similarity matrix...\n",
      "Done computing similarity matrix.\n",
      "Computing the pearson similarity matrix...\n",
      "Done computing similarity matrix.\n",
      "Computing the pearson similarity matrix...\n",
      "Done computing similarity matrix.\n",
      "Computing the pearson similarity matrix...\n",
      "Done computing similarity matrix.\n",
      "Evaluating RMSE, MAE of algorithm KNNBasic on 5 split(s).\n",
      "\n",
      "                  Fold 1  Fold 2  Fold 3  Fold 4  Fold 5  Mean    Std     \n",
      "RMSE (testset)    0.9932  0.9908  0.9846  0.9991  0.9786  0.9893  0.0071  \n",
      "MAE (testset)     0.7697  0.7665  0.7670  0.7749  0.7611  0.7678  0.0045  \n",
      "Fit time          4.53    4.56    4.51    4.49    4.50    4.52    0.02    \n",
      "Test time         4.33    4.19    4.24    4.41    4.46    4.33    0.10    \n",
      "Computing the pearson similarity matrix...\n",
      "Done computing similarity matrix.\n",
      "Computing the pearson similarity matrix...\n",
      "Done computing similarity matrix.\n",
      "Computing the pearson similarity matrix...\n",
      "Done computing similarity matrix.\n",
      "Computing the pearson similarity matrix...\n",
      "Done computing similarity matrix.\n",
      "Computing the pearson similarity matrix...\n",
      "Done computing similarity matrix.\n",
      "Evaluating RMSE, MAE of algorithm KNNBasic on 5 split(s).\n",
      "\n",
      "                  Fold 1  Fold 2  Fold 3  Fold 4  Fold 5  Mean    Std     \n",
      "RMSE (testset)    0.9841  0.9921  0.9926  0.9898  0.9898  0.9897  0.0030  \n",
      "MAE (testset)     0.7613  0.7699  0.7697  0.7686  0.7716  0.7682  0.0036  \n",
      "Fit time          4.47    4.55    4.52    4.53    4.55    4.52    0.03    \n",
      "Test time         4.30    4.34    4.30    4.24    4.19    4.27    0.05    \n",
      "Computing the pearson similarity matrix...\n",
      "Done computing similarity matrix.\n",
      "Computing the pearson similarity matrix...\n",
      "Done computing similarity matrix.\n",
      "Computing the pearson similarity matrix...\n",
      "Done computing similarity matrix.\n",
      "Computing the pearson similarity matrix...\n",
      "Done computing similarity matrix.\n",
      "Computing the pearson similarity matrix...\n",
      "Done computing similarity matrix.\n",
      "Evaluating RMSE, MAE of algorithm KNNBasic on 5 split(s).\n",
      "\n",
      "                  Fold 1  Fold 2  Fold 3  Fold 4  Fold 5  Mean    Std     \n",
      "RMSE (testset)    0.9778  0.9899  0.9921  0.9981  0.9908  0.9897  0.0066  \n",
      "MAE (testset)     0.7601  0.7671  0.7714  0.7743  0.7687  0.7683  0.0048  \n",
      "Fit time          4.54    4.40    4.46    4.52    4.39    4.46    0.06    \n",
      "Test time         4.30    4.57    4.31    4.46    4.36    4.40    0.10    \n",
      "Computing the pearson similarity matrix...\n",
      "Done computing similarity matrix.\n",
      "Computing the pearson similarity matrix...\n",
      "Done computing similarity matrix.\n",
      "Computing the pearson similarity matrix...\n",
      "Done computing similarity matrix.\n",
      "Computing the pearson similarity matrix...\n",
      "Done computing similarity matrix.\n",
      "Computing the pearson similarity matrix...\n",
      "Done computing similarity matrix.\n",
      "Evaluating RMSE, MAE of algorithm KNNBasic on 5 split(s).\n",
      "\n",
      "                  Fold 1  Fold 2  Fold 3  Fold 4  Fold 5  Mean    Std     \n",
      "RMSE (testset)    0.9839  0.9819  0.9948  0.9919  0.9934  0.9892  0.0052  \n",
      "MAE (testset)     0.7679  0.7635  0.7713  0.7678  0.7714  0.7684  0.0029  \n",
      "Fit time          4.47    4.70    4.57    4.55    4.53    4.56    0.08    \n",
      "Test time         5.07    4.67    4.32    4.31    4.42    4.56    0.29    \n"
     ]
    }
   ],
   "source": [
    "kRMSE = []\n",
    "kMAE = []\n",
    "for i in range(1,11):\n",
    "    algo = KNNBasic(k_value = i)\n",
    "\n",
    "    tempVal = cross_validate(algoItem, data, measures=[\"RMSE\", \"MAE\"], cv=5, verbose=True)  \n",
    "\n",
    "    kRMSE.append(mean(tempVal.get('test_rmse')))\n",
    "    kMAE.append(mean(tempVal.get('test_mae')))\n",
    "    \n",
    "kRMSEItem = []\n",
    "kMAEItem = []\n",
    "for i in range(1,11):\n",
    "    sim_options = {\n",
    "    \"user_based\": False,  # compute  similarities between items\n",
    "    }\n",
    "\n",
    "    algo = KNNBasic(k_value = i, sim_options=sim_options)    \n",
    "\n",
    "    tempVal = cross_validate(algoItem, data, measures=[\"RMSE\", \"MAE\"], cv=5, verbose=True)  \n",
    "\n",
    "    kRMSEItem.append(mean(tempVal.get('test_rmse')))\n",
    "    kMAEItem.append(mean(tempVal.get('test_mae')))"
   ]
  },
  {
   "cell_type": "code",
   "execution_count": 33,
   "id": "072fec56-4730-4271-98fe-f59984e60d23",
   "metadata": {},
   "outputs": [
    {
     "data": {
      "text/plain": [
       "Text(0.5, 1.0, 'RSME Values for User-based vs Item-based Collaborative Filtering')"
      ]
     },
     "execution_count": 33,
     "metadata": {},
     "output_type": "execute_result"
    },
    {
     "data": {
      "image/png": "[encoded data removed]",
      "text/plain": [
       "<Figure size 640x480 with 1 Axes>"
      ]
     },
     "metadata": {},
     "output_type": "display_data"
    }
   ],
   "source": [
    "xValues = [1,2,3,4,5,6,7,8,9,10]\n",
    "\n",
    "plt.plot(xValues, kRMSE, color = 'red', label = 'User-based')\n",
    "plt.plot(xValues, kRMSEItem, color = 'blue', label = 'Item-based')\n",
    "plt.xlabel('k value')\n",
    "plt.ylabel('RMSE Value')\n",
    "plt.legend(loc=\"upper right\")\n",
    "plt.title('RSME Values for User-based vs Item-based Collaborative Filtering')"
   ]
  },
  {
   "cell_type": "code",
   "execution_count": 34,
   "id": "98b67186-a06f-4136-9934-9945167faee3",
   "metadata": {},
   "outputs": [
    {
     "data": {
      "text/plain": [
       "Text(0.5, 1.0, 'MAE Values for User-based vs Item-based Collaborative Filtering')"
      ]
     },
     "execution_count": 34,
     "metadata": {},
     "output_type": "execute_result"
    },
    {
     "data": {
      "image/png": "[encoded data removed]",
      "text/plain": [
       "<Figure size 640x480 with 1 Axes>"
      ]
     },
     "metadata": {},
     "output_type": "display_data"
    }
   ],
   "source": [
    "xValues = [1,2,3,4,5,6,7,8,9,10]\n",
    "\n",
    "plt.plot(xValues, kMAE, color = 'red', label = 'User-based')\n",
    "plt.plot(xValues, kMAEItem, color = 'blue', label = 'Item-based')\n",
    "plt.xlabel('k value')\n",
    "plt.ylabel('MAE Value')\n",
    "plt.legend(loc=\"upper right\")\n",
    "plt.title('MAE Values for User-based vs Item-based Collaborative Filtering')"
   ]
  },
  {
   "cell_type": "code",
   "execution_count": 8,
   "id": "b2a9b4d7-c8b8-4bf8-977c-d69d9e004ea4",
   "metadata": {},
   "outputs": [
    {
     "data": {
      "text/plain": [
       "Text(0.5, 1.0, 'Similarity Values for User-based Collaborative Filtering')"
      ]
     },
     "execution_count": 8,
     "metadata": {},
     "output_type": "execute_result"
    },
    {
     "data": {
      "image/png": "[encoded data removed]",
      "text/plain": [
       "<Figure size 640x480 with 1 Axes>"
      ]
     },
     "metadata": {},
     "output_type": "display_data"
    }
   ],
   "source": [
    "xValues = [\"cosine\", \"msd\", \"pearson\"]\n",
    "yValUserR = [0.9957, 0.9672, 0.9976]\n",
    "yValUserM = [0.7694, 0.7435, 0.7727]\n",
    "\n",
    "yValItemR = [0.9948, 0.9343, 0.9898]\n",
    "yValItemM = [0.7743, 0.7208, 0.7684]\n",
    "\n",
    "plt.plot(xValues, yValUserR, color = 'red', label = 'RMSE')\n",
    "plt.plot(xValues, yValUserM, color = 'blue', label = 'MAE')\n",
    "plt.xlabel('Similarity Measures')\n",
    "plt.legend(loc=\"upper right\")\n",
    "plt.title('Similarity Values for User-based Collaborative Filtering')"
   ]
  },
  {
   "cell_type": "code",
   "execution_count": 9,
   "id": "ca9332a6-60a6-40b6-8f14-9d2b6c44f867",
   "metadata": {},
   "outputs": [
    {
     "data": {
      "text/plain": [
       "Text(0.5, 1.0, 'Similarity Values for Item-based Collaborative Filtering')"
      ]
     },
     "execution_count": 9,
     "metadata": {},
     "output_type": "execute_result"
    },
    {
     "data": {
      "image/png": "[encoded data removed]",
      "text/plain": [
       "<Figure size 640x480 with 1 Axes>"
      ]
     },
     "metadata": {},
     "output_type": "display_data"
    }
   ],
   "source": [
    "plt.plot(xValues, yValItemR, color = 'red', label = 'RMSE')\n",
    "plt.plot(xValues, yValItemM, color = 'blue', label = 'MAE')\n",
    "plt.xlabel('Similarity Measures')\n",
    "plt.legend(loc=\"upper right\")\n",
    "plt.title('Similarity Values for Item-based Collaborative Filtering')"
   ]
  },
  {
   "cell_type": "code",
   "execution_count": null,
   "id": "d420763d-9666-4045-8e8f-bc1a6daf90d5",
   "metadata": {},
   "outputs": [],
   "source": []
  }
 ],
 "metadata": {
  "kernelspec": {
   "display_name": "Python 3 (ipykernel)",
   "language": "python",
   "name": "python3"
  },
  "language_info": {
   "codemirror_mode": {
    "name": "ipython",
    "version": 3
   },
   "file_extension": ".py",
   "mimetype": "text/x-python",
   "name": "python",
   "nbconvert_exporter": "python",
   "pygments_lexer": "ipython3",
   "version": "3.10.9"
  }
 },
 "nbformat": 4,
 "nbformat_minor": 5
}
