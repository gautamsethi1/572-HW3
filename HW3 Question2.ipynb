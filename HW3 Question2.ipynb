{
 "cells": [
  {
   "cell_type": "code",
   "execution_count": 19,
   "id": "197a531c-f973-4f8a-b7e6-770403048395",
   "metadata": {},
   "outputs": [],
   "source": [
    "from surprise import SVD, KNNBasic\n",
    "from surprise.model_selection import cross_validate\n",
    "import pandas as pd\n",
    "from surprise import Dataset, Reader\n",
    "import matplotlib.pyplot as plt\n",
    "from statistics import mean"
   ]
  },
  {
   "cell_type": "code",
   "execution_count": 2,
   "id": "6706faf2-b422-41af-8bfb-156ff4ff4fa9",
   "metadata": {},
   "outputs": [
    {
     "name": "stdout",
     "output_type": "stream",
     "text": [
      "Evaluating RMSE, MAE of algorithm SVD on 5 split(s).\n",
      "\n",
      "                  Fold 1  Fold 2  Fold 3  Fold 4  Fold 5  Mean    Std     \n",
      "RMSE (testset)    1.0155  1.0076  1.0117  0.9969  1.0210  1.0105  0.0081  \n",
      "MAE (testset)     0.7847  0.7749  0.7847  0.7694  0.7866  0.7801  0.0067  \n",
      "Fit time          0.78    0.81    0.82    0.79    0.80    0.80    0.01    \n",
      "Test time         0.08    0.14    0.07    0.14    0.08    0.10    0.03    \n"
     ]
    },
    {
     "data": {
      "text/plain": [
       "{'test_rmse': array([1.01547195, 1.00760398, 1.01173047, 0.99688961, 1.02096004]),\n",
       " 'test_mae': array([0.78471241, 0.77489129, 0.78466034, 0.76937182, 0.78663064]),\n",
       " 'fit_time': (0.784203052520752,\n",
       "  0.8110330104827881,\n",
       "  0.8165817260742188,\n",
       "  0.7921297550201416,\n",
       "  0.7981441020965576),\n",
       " 'test_time': (0.07695269584655762,\n",
       "  0.14088797569274902,\n",
       "  0.0745079517364502,\n",
       "  0.13870906829833984,\n",
       "  0.07523107528686523)}"
      ]
     },
     "execution_count": 2,
     "metadata": {},
     "output_type": "execute_result"
    }
   ],
   "source": [
    "df = pd.read_csv('ratings_small.csv')\n",
    "\n",
    "reader = Reader(rating_scale=(1, 5))\n",
    "\n",
    "data = Dataset.load_from_df(df[[\"userId\", \"movieId\", \"rating\"]], reader)\n",
    "\n",
    "algoPMF = SVD(biased=False)\n",
    "\n",
    "cross_validate(algoPMF, data, measures=[\"RMSE\", \"MAE\"], cv=5, verbose=True)"
   ]
  },
  {
   "cell_type": "code",
   "execution_count": 3,
   "id": "67f6f915-b67e-4f81-9af8-50e9151593f8",
   "metadata": {},
   "outputs": [
    {
     "name": "stdout",
     "output_type": "stream",
     "text": [
      "Computing the msd similarity matrix...\n",
      "Done computing similarity matrix.\n",
      "Computing the msd similarity matrix...\n",
      "Done computing similarity matrix.\n",
      "Computing the msd similarity matrix...\n",
      "Done computing similarity matrix.\n",
      "Computing the msd similarity matrix...\n",
      "Done computing similarity matrix.\n",
      "Computing the msd similarity matrix...\n",
      "Done computing similarity matrix.\n",
      "Evaluating RMSE, MAE of algorithm KNNBasic on 5 split(s).\n",
      "\n",
      "                  Fold 1  Fold 2  Fold 3  Fold 4  Fold 5  Mean    Std     \n",
      "RMSE (testset)    0.9686  0.9712  0.9544  0.9643  0.9813  0.9680  0.0088  \n",
      "MAE (testset)     0.7434  0.7454  0.7373  0.7402  0.7529  0.7438  0.0053  \n",
      "Fit time          0.09    0.09    0.09    0.09    0.09    0.09    0.00    \n",
      "Test time         0.96    0.91    0.91    0.87    0.91    0.91    0.03    \n"
     ]
    },
    {
     "data": {
      "text/plain": [
       "{'test_rmse': array([0.96861486, 0.97119416, 0.95435156, 0.96429374, 0.98129681]),\n",
       " 'test_mae': array([0.74339512, 0.74543992, 0.73729166, 0.74019348, 0.75292696]),\n",
       " 'fit_time': (0.08707594871520996,\n",
       "  0.09300589561462402,\n",
       "  0.09196114540100098,\n",
       "  0.09337210655212402,\n",
       "  0.09462904930114746),\n",
       " 'test_time': (0.9645226001739502,\n",
       "  0.908318281173706,\n",
       "  0.9142839908599854,\n",
       "  0.8711590766906738,\n",
       "  0.9074580669403076)}"
      ]
     },
     "execution_count": 3,
     "metadata": {},
     "output_type": "execute_result"
    }
   ],
   "source": [
    "#testing user-based collaborative filtering\n",
    "algoUser = KNNBasic()\n",
    "cross_validate(algoUser, data, measures=[\"RMSE\", \"MAE\"], cv=5, verbose=True)"
   ]
  },
  {
   "cell_type": "code",
   "execution_count": 4,
   "id": "948c5e09-3415-4411-bda9-2348162a8e88",
   "metadata": {},
   "outputs": [
    {
     "name": "stdout",
     "output_type": "stream",
     "text": [
      "Computing the msd similarity matrix...\n",
      "Done computing similarity matrix.\n",
      "Computing the msd similarity matrix...\n",
      "Done computing similarity matrix.\n",
      "Computing the msd similarity matrix...\n",
      "Done computing similarity matrix.\n",
      "Computing the msd similarity matrix...\n",
      "Done computing similarity matrix.\n",
      "Computing the msd similarity matrix...\n",
      "Done computing similarity matrix.\n",
      "Evaluating RMSE, MAE of algorithm KNNBasic on 5 split(s).\n",
      "\n",
      "                  Fold 1  Fold 2  Fold 3  Fold 4  Fold 5  Mean    Std     \n",
      "RMSE (testset)    0.9370  0.9398  0.9367  0.9281  0.9344  0.9352  0.0040  \n",
      "MAE (testset)     0.7210  0.7245  0.7231  0.7161  0.7200  0.7209  0.0029  \n",
      "Fit time          2.32    2.33    2.27    2.34    2.30    2.31    0.03    \n",
      "Test time         3.92    4.17    4.19    4.05    4.05    4.07    0.10    \n"
     ]
    },
    {
     "data": {
      "text/plain": [
       "{'test_rmse': array([0.93701833, 0.93982238, 0.93670764, 0.9280902 , 0.93440776]),\n",
       " 'test_mae': array([0.72095684, 0.72451557, 0.72306543, 0.7161471 , 0.72001217]),\n",
       " 'fit_time': (2.3235580921173096,\n",
       "  2.333087921142578,\n",
       "  2.2663700580596924,\n",
       "  2.3417038917541504,\n",
       "  2.3003220558166504),\n",
       " 'test_time': (3.9221298694610596,\n",
       "  4.1685991287231445,\n",
       "  4.1893579959869385,\n",
       "  4.0462048053741455,\n",
       "  4.0485899448394775)}"
      ]
     },
     "execution_count": 4,
     "metadata": {},
     "output_type": "execute_result"
    }
   ],
   "source": [
    "#testing item-based collaborative filtering\n",
    "sim_options = {\"user_based\": False}\n",
    "algoItem = KNNBasic(sim_options=sim_options)\n",
    "\n",
    "# algoItem = KNNBasic(sim_options={'user_based':False})\n",
    "cross_validate(algoItem, data, measures=[\"RMSE\", \"MAE\"], cv=5, verbose=True)             "
   ]
  },
  {
   "cell_type": "code",
   "execution_count": 5,
   "id": "4cea01f2-694b-4fbc-9064-3c2e1a1e6ae7",
   "metadata": {},
   "outputs": [],
   "source": [
    "#part e\n",
    "#testing cosine similarity"
   ]
  },
  {
   "cell_type": "code",
   "execution_count": 6,
   "id": "9cb2f455-8e86-4ec2-82b1-2d0c4bfa7b04",
   "metadata": {},
   "outputs": [
    {
     "name": "stdout",
     "output_type": "stream",
     "text": [
      "Computing the cosine similarity matrix...\n",
      "Done computing similarity matrix.\n",
      "Computing the cosine similarity matrix...\n",
      "Done computing similarity matrix.\n",
      "Computing the cosine similarity matrix...\n",
      "Done computing similarity matrix.\n",
      "Computing the cosine similarity matrix...\n",
      "Done computing similarity matrix.\n",
      "Computing the cosine similarity matrix...\n",
      "Done computing similarity matrix.\n",
      "Evaluating RMSE, MAE of algorithm KNNBasic on 5 split(s).\n",
      "\n",
      "                  Fold 1  Fold 2  Fold 3  Fold 4  Fold 5  Mean    Std     \n",
      "RMSE (testset)    0.9941  0.9966  0.9980  0.9947  0.9951  0.9957  0.0014  \n",
      "MAE (testset)     0.7732  0.7763  0.7771  0.7739  0.7735  0.7748  0.0016  \n",
      "Fit time          3.47    3.44    3.40    3.37    3.33    3.40    0.05    \n",
      "Test time         3.80    3.89    3.97    4.05    3.87    3.91    0.08    \n"
     ]
    },
    {
     "data": {
      "text/plain": [
       "{'test_rmse': array([0.99414751, 0.9965966 , 0.99803826, 0.99474698, 0.99507435]),\n",
       " 'test_mae': array([0.77319283, 0.77627841, 0.77706199, 0.77394263, 0.77347408]),\n",
       " 'fit_time': (3.4722468852996826,\n",
       "  3.4439520835876465,\n",
       "  3.402183771133423,\n",
       "  3.3726887702941895,\n",
       "  3.3315939903259277),\n",
       " 'test_time': (3.800408124923706,\n",
       "  3.885446786880493,\n",
       "  3.968975782394409,\n",
       "  4.045760869979858,\n",
       "  3.8721957206726074)}"
      ]
     },
     "execution_count": 6,
     "metadata": {},
     "output_type": "execute_result"
    }
   ],
   "source": [
    "sim_options = {\n",
    "    \"name\": \"cosine\",\n",
    "    \"user_based\": False,  # compute  similarities between items\n",
    "}\n",
    "\n",
    "algoItem = KNNBasic(sim_options=sim_options)\n",
    "\n",
    "cross_validate(algoItem, data, measures=[\"RMSE\", \"MAE\"], cv=5, verbose=True)    "
   ]
  },
  {
   "cell_type": "code",
   "execution_count": 7,
   "id": "bced3ff4-55cc-411b-8c62-afb67e1988ce",
   "metadata": {},
   "outputs": [
    {
     "name": "stdout",
     "output_type": "stream",
     "text": [
      "Computing the cosine similarity matrix...\n",
      "Done computing similarity matrix.\n",
      "Computing the cosine similarity matrix...\n",
      "Done computing similarity matrix.\n",
      "Computing the cosine similarity matrix...\n",
      "Done computing similarity matrix.\n",
      "Computing the cosine similarity matrix...\n",
      "Done computing similarity matrix.\n",
      "Computing the cosine similarity matrix...\n",
      "Done computing similarity matrix.\n",
      "Evaluating RMSE, MAE of algorithm KNNBasic on 5 split(s).\n",
      "\n",
      "                  Fold 1  Fold 2  Fold 3  Fold 4  Fold 5  Mean    Std     \n",
      "RMSE (testset)    0.9870  0.9988  0.9860  0.9932  1.0010  0.9932  0.0060  \n",
      "MAE (testset)     0.7635  0.7717  0.7607  0.7686  0.7723  0.7674  0.0046  \n",
      "Fit time          0.11    0.13    0.12    0.13    0.13    0.12    0.01    \n",
      "Test time         0.96    0.88    0.90    0.86    0.93    0.91    0.04    \n"
     ]
    },
    {
     "data": {
      "text/plain": [
       "{'test_rmse': array([0.98700058, 0.99876639, 0.9860338 , 0.99321318, 1.00102408]),\n",
       " 'test_mae': array([0.76353924, 0.77168414, 0.76069455, 0.76864627, 0.77233518]),\n",
       " 'fit_time': (0.1140291690826416,\n",
       "  0.1258690357208252,\n",
       "  0.12436199188232422,\n",
       "  0.12956500053405762,\n",
       "  0.12553024291992188),\n",
       " 'test_time': (0.9606389999389648,\n",
       "  0.8769519329071045,\n",
       "  0.8968770503997803,\n",
       "  0.8623719215393066,\n",
       "  0.930717945098877)}"
      ]
     },
     "execution_count": 7,
     "metadata": {},
     "output_type": "execute_result"
    }
   ],
   "source": [
    "#user-based\n",
    "sim_options = {\n",
    "    \"name\": \"cosine\",\n",
    "}\n",
    "\n",
    "algoUser = KNNBasic(sim_options=sim_options)\n",
    "\n",
    "cross_validate(algoUser, data, measures=[\"RMSE\", \"MAE\"], cv=5, verbose=True) "
   ]
  },
  {
   "cell_type": "code",
   "execution_count": 8,
   "id": "de3f1ffe-c3c5-44f8-b6b1-ece946c80db8",
   "metadata": {},
   "outputs": [],
   "source": [
    "#testing MSD"
   ]
  },
  {
   "cell_type": "code",
   "execution_count": 9,
   "id": "aa8e6ec2-060c-4103-ae2f-4c1d1063a6ad",
   "metadata": {},
   "outputs": [
    {
     "name": "stdout",
     "output_type": "stream",
     "text": [
      "Computing the msd similarity matrix...\n",
      "Done computing similarity matrix.\n",
      "Computing the msd similarity matrix...\n",
      "Done computing similarity matrix.\n",
      "Computing the msd similarity matrix...\n",
      "Done computing similarity matrix.\n",
      "Computing the msd similarity matrix...\n",
      "Done computing similarity matrix.\n",
      "Computing the msd similarity matrix...\n",
      "Done computing similarity matrix.\n",
      "Evaluating RMSE, MAE of algorithm KNNBasic on 5 split(s).\n",
      "\n",
      "                  Fold 1  Fold 2  Fold 3  Fold 4  Fold 5  Mean    Std     \n",
      "RMSE (testset)    0.9703  0.9716  0.9631  0.9740  0.9654  0.9689  0.0040  \n",
      "MAE (testset)     0.7475  0.7455  0.7378  0.7494  0.7430  0.7446  0.0040  \n",
      "Fit time          0.07    0.09    0.10    0.09    0.09    0.09    0.01    \n",
      "Test time         0.88    0.85    0.85    0.99    0.85    0.89    0.05    \n"
     ]
    },
    {
     "data": {
      "text/plain": [
       "{'test_rmse': array([0.97029377, 0.97161543, 0.96306052, 0.97398339, 0.96544876]),\n",
       " 'test_mae': array([0.74745465, 0.74550524, 0.73777961, 0.74940385, 0.74295651]),\n",
       " 'fit_time': (0.07329607009887695,\n",
       "  0.09470200538635254,\n",
       "  0.10356831550598145,\n",
       "  0.09160304069519043,\n",
       "  0.09243011474609375),\n",
       " 'test_time': (0.8807580471038818,\n",
       "  0.8531351089477539,\n",
       "  0.8541579246520996,\n",
       "  0.9934861660003662,\n",
       "  0.849139928817749)}"
      ]
     },
     "execution_count": 9,
     "metadata": {},
     "output_type": "execute_result"
    }
   ],
   "source": [
    "#testing user-based collaborative filtering\n",
    "sim_options = {\n",
    "    \"name\": \"msd\",\n",
    "}\n",
    "\n",
    "algoUser = KNNBasic(sim_options=sim_options)\n",
    "\n",
    "cross_validate(algoUser, data, measures=[\"RMSE\", \"MAE\"], cv=5, verbose=True) "
   ]
  },
  {
   "cell_type": "code",
   "execution_count": 10,
   "id": "ccdd70e5-7466-4699-9e6e-808685542d23",
   "metadata": {},
   "outputs": [
    {
     "name": "stdout",
     "output_type": "stream",
     "text": [
      "Computing the msd similarity matrix...\n",
      "Done computing similarity matrix.\n",
      "Computing the msd similarity matrix...\n",
      "Done computing similarity matrix.\n",
      "Computing the msd similarity matrix...\n",
      "Done computing similarity matrix.\n",
      "Computing the msd similarity matrix...\n",
      "Done computing similarity matrix.\n",
      "Computing the msd similarity matrix...\n",
      "Done computing similarity matrix.\n",
      "Evaluating RMSE, MAE of algorithm KNNBasic on 5 split(s).\n",
      "\n",
      "                  Fold 1  Fold 2  Fold 3  Fold 4  Fold 5  Mean    Std     \n",
      "RMSE (testset)    0.9348  0.9228  0.9362  0.9502  0.9258  0.9340  0.0096  \n",
      "MAE (testset)     0.7207  0.7139  0.7220  0.7312  0.7152  0.7206  0.0061  \n",
      "Fit time          2.22    2.25    2.31    2.31    2.27    2.27    0.03    \n",
      "Test time         3.89    4.14    4.15    3.91    4.22    4.06    0.13    \n"
     ]
    },
    {
     "data": {
      "text/plain": [
       "{'test_rmse': array([0.93481532, 0.92277909, 0.93619186, 0.95021695, 0.92583604]),\n",
       " 'test_mae': array([0.72065623, 0.71388631, 0.72201983, 0.7312046 , 0.71522864]),\n",
       " 'fit_time': (2.2234301567077637,\n",
       "  2.2479817867279053,\n",
       "  2.3083062171936035,\n",
       "  2.3065075874328613,\n",
       "  2.274857997894287),\n",
       " 'test_time': (3.893482208251953,\n",
       "  4.141951084136963,\n",
       "  4.149274110794067,\n",
       "  3.9102959632873535,\n",
       "  4.2152259349823)}"
      ]
     },
     "execution_count": 10,
     "metadata": {},
     "output_type": "execute_result"
    }
   ],
   "source": [
    "#testing item-based collaborative filtering\n",
    "sim_options = {\n",
    "    \"name\": \"msd\",\n",
    "    \"user_based\": False,  # compute  similarities between items\n",
    "}\n",
    "\n",
    "algoItem = KNNBasic(sim_options=sim_options)\n",
    "\n",
    "cross_validate(algoItem, data, measures=[\"RMSE\", \"MAE\"], cv=5, verbose=True)  "
   ]
  },
  {
   "cell_type": "code",
   "execution_count": 11,
   "id": "d9d81ea6-044f-4f13-94be-f475f6a6c9f1",
   "metadata": {},
   "outputs": [],
   "source": [
    "#testing pearson"
   ]
  },
  {
   "cell_type": "code",
   "execution_count": 12,
   "id": "5f36608a-ed24-4c43-8bc6-4e0656358def",
   "metadata": {},
   "outputs": [
    {
     "name": "stdout",
     "output_type": "stream",
     "text": [
      "Computing the pearson similarity matrix...\n",
      "Done computing similarity matrix.\n",
      "Computing the pearson similarity matrix...\n",
      "Done computing similarity matrix.\n",
      "Computing the pearson similarity matrix...\n",
      "Done computing similarity matrix.\n",
      "Computing the pearson similarity matrix...\n",
      "Done computing similarity matrix.\n",
      "Computing the pearson similarity matrix...\n",
      "Done computing similarity matrix.\n",
      "Evaluating RMSE, MAE of algorithm KNNBasic on 5 split(s).\n",
      "\n",
      "                  Fold 1  Fold 2  Fold 3  Fold 4  Fold 5  Mean    Std     \n",
      "RMSE (testset)    0.9925  0.9963  1.0117  0.9986  0.9922  0.9983  0.0071  \n",
      "MAE (testset)     0.7670  0.7734  0.7854  0.7711  0.7657  0.7725  0.0070  \n",
      "Fit time          0.16    0.17    0.17    0.17    0.17    0.17    0.01    \n",
      "Test time         0.86    0.84    0.87    0.99    0.87    0.89    0.05    \n"
     ]
    },
    {
     "data": {
      "text/plain": [
       "{'test_rmse': array([0.99254564, 0.9962501 , 1.01169251, 0.9986422 , 0.99220334]),\n",
       " 'test_mae': array([0.76699691, 0.77337056, 0.78542992, 0.77112509, 0.76574757]),\n",
       " 'fit_time': (0.15554499626159668,\n",
       "  0.16992783546447754,\n",
       "  0.16882610321044922,\n",
       "  0.16660308837890625,\n",
       "  0.16662812232971191),\n",
       " 'test_time': (0.8604962825775146,\n",
       "  0.8426609039306641,\n",
       "  0.869642972946167,\n",
       "  0.9903018474578857,\n",
       "  0.865358829498291)}"
      ]
     },
     "execution_count": 12,
     "metadata": {},
     "output_type": "execute_result"
    }
   ],
   "source": [
    "#testing user-based collaborative filtering\n",
    "sim_options = {\n",
    "    \"name\": \"pearson\",\n",
    "}\n",
    "\n",
    "algoUser = KNNBasic(sim_options=sim_options)\n",
    "\n",
    "cross_validate(algoUser, data, measures=[\"RMSE\", \"MAE\"], cv=5, verbose=True) "
   ]
  },
  {
   "cell_type": "code",
   "execution_count": 13,
   "id": "1265ce46-87ea-4690-9d52-a344ff564a98",
   "metadata": {},
   "outputs": [
    {
     "name": "stdout",
     "output_type": "stream",
     "text": [
      "Computing the pearson similarity matrix...\n",
      "Done computing similarity matrix.\n",
      "Computing the pearson similarity matrix...\n",
      "Done computing similarity matrix.\n",
      "Computing the pearson similarity matrix...\n",
      "Done computing similarity matrix.\n",
      "Computing the pearson similarity matrix...\n",
      "Done computing similarity matrix.\n",
      "Computing the pearson similarity matrix...\n",
      "Done computing similarity matrix.\n",
      "Evaluating RMSE, MAE of algorithm KNNBasic on 5 split(s).\n",
      "\n",
      "                  Fold 1  Fold 2  Fold 3  Fold 4  Fold 5  Mean    Std     \n",
      "RMSE (testset)    0.9807  0.9970  0.9870  0.9857  0.9942  0.9889  0.0059  \n",
      "MAE (testset)     0.7628  0.7742  0.7656  0.7660  0.7694  0.7676  0.0039  \n",
      "Fit time          4.43    4.45    4.27    4.30    4.80    4.45    0.19    \n",
      "Test time         3.69    3.92    4.12    5.19    4.11    4.21    0.52    \n"
     ]
    },
    {
     "data": {
      "text/plain": [
       "{'test_rmse': array([0.98069163, 0.99696707, 0.9869751 , 0.98573605, 0.99415024]),\n",
       " 'test_mae': array([0.76280413, 0.77420394, 0.76563054, 0.76598113, 0.76944392]),\n",
       " 'fit_time': (4.431215047836304,\n",
       "  4.446830749511719,\n",
       "  4.265604019165039,\n",
       "  4.297079801559448,\n",
       "  4.801638126373291),\n",
       " 'test_time': (3.688210964202881,\n",
       "  3.924431085586548,\n",
       "  4.116642951965332,\n",
       "  5.189319849014282,\n",
       "  4.113773822784424)}"
      ]
     },
     "execution_count": 13,
     "metadata": {},
     "output_type": "execute_result"
    }
   ],
   "source": [
    "#testing item-based collaborative filtering\n",
    "sim_options = {\n",
    "    \"name\": \"pearson\",\n",
    "    \"user_based\": False,  # compute  similarities between items\n",
    "}\n",
    "\n",
    "algoItem = KNNBasic(sim_options=sim_options)\n",
    "\n",
    "cross_validate(algoItem, data, measures=[\"RMSE\", \"MAE\"], cv=5, verbose=True)  "
   ]
  },
  {
   "cell_type": "code",
   "execution_count": null,
   "id": "0fc0a4b1-709d-4cc2-9da4-6661c3573455",
   "metadata": {},
   "outputs": [],
   "source": [
    "yValUserK = []"
   ]
  },
  {
   "cell_type": "code",
   "execution_count": 15,
   "id": "5858c6df-893e-4da5-9166-77a03e2c248b",
   "metadata": {},
   "outputs": [
    {
     "name": "stdout",
     "output_type": "stream",
     "text": [
      "Computing the pearson similarity matrix...\n",
      "Done computing similarity matrix.\n",
      "Computing the pearson similarity matrix...\n",
      "Done computing similarity matrix.\n",
      "Computing the pearson similarity matrix...\n",
      "Done computing similarity matrix.\n",
      "Computing the pearson similarity matrix...\n",
      "Done computing similarity matrix.\n",
      "Computing the pearson similarity matrix...\n",
      "Done computing similarity matrix.\n",
      "Evaluating RMSE, MAE of algorithm KNNBasic on 5 split(s).\n",
      "\n",
      "                  Fold 1  Fold 2  Fold 3  Fold 4  Fold 5  Mean    Std     \n",
      "RMSE (testset)    0.9921  0.9756  1.0024  0.9966  0.9855  0.9904  0.0092  \n",
      "MAE (testset)     0.7713  0.7559  0.7796  0.7730  0.7634  0.7686  0.0082  \n",
      "Fit time          4.53    4.68    4.94    4.44    4.54    4.63    0.18    \n",
      "Test time         4.34    4.34    4.20    5.04    4.92    4.57    0.34    \n",
      "None\n"
     ]
    }
   ],
   "source": [
    "#testing item-based collaborative filtering\n",
    "# sim_options = {\n",
    "#     \"name\": \"pearson\",\n",
    "#     \"user_based\": False,  # compute  similarities between items\n",
    "# }\n",
    "\n",
    "algo = KNNBasic()\n",
    "algo.k = 10\n",
    "\n",
    "tempVal = cross_validate(algoItem, data, measures=[\"RMSE\", \"MAE\"], cv=5, verbose=True)  \n",
    "\n",
    "yValUserK.append(mean(tempVal.get('test_rmse')))"
   ]
  },
  {
   "cell_type": "code",
   "execution_count": 20,
   "id": "8832168d-4418-4f7e-98be-2242c4f6a41a",
   "metadata": {},
   "outputs": [
    {
     "name": "stdout",
     "output_type": "stream",
     "text": [
      "0.9904358353451899\n"
     ]
    }
   ],
   "source": [
    "mean(tempVal.get('test_rmse'))"
   ]
  },
  {
   "cell_type": "code",
   "execution_count": 16,
   "id": "d1576a87-fc4e-4341-867d-1534d4cbcb53",
   "metadata": {},
   "outputs": [
    {
     "name": "stdout",
     "output_type": "stream",
     "text": [
      "Computing the pearson similarity matrix...\n",
      "Done computing similarity matrix.\n",
      "Computing the pearson similarity matrix...\n",
      "Done computing similarity matrix.\n",
      "Computing the pearson similarity matrix...\n",
      "Done computing similarity matrix.\n",
      "Computing the pearson similarity matrix...\n",
      "Done computing similarity matrix.\n",
      "Computing the pearson similarity matrix...\n",
      "Done computing similarity matrix.\n",
      "Evaluating RMSE, MAE of algorithm KNNBasic on 5 split(s).\n",
      "\n",
      "                  Fold 1  Fold 2  Fold 3  Fold 4  Fold 5  Mean    Std     \n",
      "RMSE (testset)    0.9955  0.9861  0.9837  0.9948  0.9878  0.9896  0.0047  \n",
      "MAE (testset)     0.7720  0.7674  0.7612  0.7721  0.7670  0.7679  0.0040  \n",
      "Fit time          4.66    4.58    4.51    4.55    4.59    4.58    0.05    \n",
      "Test time         4.70    4.51    4.76    4.88    5.01    4.77    0.17    \n"
     ]
    },
    {
     "data": {
      "text/plain": [
       "{'test_rmse': array([0.99552408, 0.98606251, 0.98367787, 0.99477056, 0.98783299]),\n",
       " 'test_mae': array([0.77203679, 0.76735978, 0.76119677, 0.77210976, 0.76699782]),\n",
       " 'fit_time': (4.663649082183838,\n",
       "  4.58270001411438,\n",
       "  4.509123086929321,\n",
       "  4.552075147628784,\n",
       "  4.5938942432403564),\n",
       " 'test_time': (4.700338125228882,\n",
       "  4.513627052307129,\n",
       "  4.762472867965698,\n",
       "  4.88136887550354,\n",
       "  5.013513088226318)}"
      ]
     },
     "execution_count": 16,
     "metadata": {},
     "output_type": "execute_result"
    }
   ],
   "source": [
    "algo = KNNBasic()\n",
    "algo.k = 10\n",
    "\n",
    "tempVal = cross_validate(algoItem, data, measures=[\"RMSE\", \"MAE\"], cv=5, verbose=True)  \n",
    "\n",
    "yValUserK.append(mean(tempVal.get('test_rmse')))"
   ]
  },
  {
   "cell_type": "code",
   "execution_count": 17,
   "id": "50824e85-c295-44a9-b6a2-c1fc50555657",
   "metadata": {},
   "outputs": [
    {
     "name": "stdout",
     "output_type": "stream",
     "text": [
      "Computing the pearson similarity matrix...\n",
      "Done computing similarity matrix.\n",
      "Computing the pearson similarity matrix...\n",
      "Done computing similarity matrix.\n",
      "Computing the pearson similarity matrix...\n",
      "Done computing similarity matrix.\n",
      "Computing the pearson similarity matrix...\n",
      "Done computing similarity matrix.\n",
      "Computing the pearson similarity matrix...\n",
      "Done computing similarity matrix.\n",
      "Evaluating RMSE, MAE of algorithm KNNBasic on 5 split(s).\n",
      "\n",
      "                  Fold 1  Fold 2  Fold 3  Fold 4  Fold 5  Mean    Std     \n",
      "RMSE (testset)    0.9961  0.9865  0.9889  0.9821  0.9936  0.9895  0.0050  \n",
      "MAE (testset)     0.7714  0.7663  0.7684  0.7626  0.7722  0.7682  0.0035  \n",
      "Fit time          4.58    4.55    4.62    4.57    4.50    4.56    0.04    \n",
      "Test time         4.54    4.61    4.58    4.61    4.57    4.58    0.03    \n"
     ]
    },
    {
     "data": {
      "text/plain": [
       "{'test_rmse': array([0.99613929, 0.98653486, 0.98893302, 0.98211639, 0.99363567]),\n",
       " 'test_mae': array([0.77137036, 0.76629573, 0.76837505, 0.76264436, 0.77224169]),\n",
       " 'fit_time': (4.584772825241089,\n",
       "  4.549829959869385,\n",
       "  4.617577075958252,\n",
       "  4.571676015853882,\n",
       "  4.496346712112427),\n",
       " 'test_time': (4.541009902954102,\n",
       "  4.613574981689453,\n",
       "  4.579230785369873,\n",
       "  4.609238862991333,\n",
       "  4.567248821258545)}"
      ]
     },
     "execution_count": 17,
     "metadata": {},
     "output_type": "execute_result"
    }
   ],
   "source": [
    "algo = KNNBasic()\n",
    "algo.k = 10\n",
    "\n",
    "tempVal = cross_validate(algoItem, data, measures=[\"RMSE\", \"MAE\"], cv=5, verbose=True)  \n",
    "\n",
    "yValUserK.append(mean(tempVal.get('test_rmse')))"
   ]
  },
  {
   "cell_type": "code",
   "execution_count": 18,
   "id": "ef7997d9-fd83-4ce9-a08a-72ca092a8647",
   "metadata": {},
   "outputs": [
    {
     "name": "stdout",
     "output_type": "stream",
     "text": [
      "Computing the pearson similarity matrix...\n",
      "Done computing similarity matrix.\n",
      "Computing the pearson similarity matrix...\n",
      "Done computing similarity matrix.\n",
      "Computing the pearson similarity matrix...\n",
      "Done computing similarity matrix.\n",
      "Computing the pearson similarity matrix...\n",
      "Done computing similarity matrix.\n",
      "Computing the pearson similarity matrix...\n",
      "Done computing similarity matrix.\n",
      "Evaluating RMSE, MAE of algorithm KNNBasic on 5 split(s).\n",
      "\n",
      "                  Fold 1  Fold 2  Fold 3  Fold 4  Fold 5  Mean    Std     \n",
      "RMSE (testset)    0.9832  0.9914  0.9985  0.9866  0.9867  0.9893  0.0053  \n",
      "MAE (testset)     0.7628  0.7704  0.7735  0.7663  0.7667  0.7679  0.0037  \n",
      "Fit time          4.61    4.46    4.47    4.57    4.51    4.52    0.06    \n",
      "Test time         4.57    4.59    4.69    4.61    4.62    4.61    0.04    \n"
     ]
    },
    {
     "data": {
      "text/plain": [
       "{'test_rmse': array([0.9831513 , 0.99144497, 0.9984738 , 0.98658179, 0.98669524]),\n",
       " 'test_mae': array([0.76283937, 0.77040796, 0.77349709, 0.76628743, 0.76667269]),\n",
       " 'fit_time': (4.608442068099976,\n",
       "  4.462143898010254,\n",
       "  4.467422962188721,\n",
       "  4.571039915084839,\n",
       "  4.514518976211548),\n",
       " 'test_time': (4.569016218185425,\n",
       "  4.5904340744018555,\n",
       "  4.689219951629639,\n",
       "  4.607687950134277,\n",
       "  4.616173982620239)}"
      ]
     },
     "execution_count": 18,
     "metadata": {},
     "output_type": "execute_result"
    }
   ],
   "source": [
    "algo = KNNBasic()\n",
    "algo.k = 10\n",
    "\n",
    "tempVal = cross_validate(algoItem, data, measures=[\"RMSE\", \"MAE\"], cv=5, verbose=True)  \n",
    "\n",
    "yValUserK.append(mean(tempVal.get('test_rmse')))"
   ]
  },
  {
   "cell_type": "code",
   "execution_count": 20,
   "id": "80c34eaf-be3a-4add-82a1-ba0055fa4676",
   "metadata": {},
   "outputs": [
    {
     "name": "stdout",
     "output_type": "stream",
     "text": [
      "Computing the pearson similarity matrix...\n",
      "Done computing similarity matrix.\n",
      "Computing the pearson similarity matrix...\n",
      "Done computing similarity matrix.\n",
      "Computing the pearson similarity matrix...\n",
      "Done computing similarity matrix.\n",
      "Computing the pearson similarity matrix...\n",
      "Done computing similarity matrix.\n",
      "Computing the pearson similarity matrix...\n",
      "Done computing similarity matrix.\n",
      "Evaluating RMSE, MAE of algorithm KNNBasic on 5 split(s).\n",
      "\n",
      "                  Fold 1  Fold 2  Fold 3  Fold 4  Fold 5  Mean    Std     \n",
      "RMSE (testset)    0.9857  0.9915  0.9846  0.9910  0.9911  0.9888  0.0030  \n",
      "MAE (testset)     0.7641  0.7711  0.7669  0.7692  0.7676  0.7678  0.0023  \n",
      "Fit time          4.89    4.65    4.67    4.62    4.62    4.69    0.10    \n",
      "Test time         4.64    4.57    4.78    4.69    4.67    4.67    0.07    \n"
     ]
    }
   ],
   "source": [
    "algo = KNNBasic()\n",
    "algo.k = 10\n",
    "\n",
    "tempVal = cross_validate(algoItem, data, measures=[\"RMSE\", \"MAE\"], cv=5, verbose=True)  \n",
    "\n",
    "yValUserK.append(mean(tempVal.get('test_rmse')))"
   ]
  },
  {
   "cell_type": "code",
   "execution_count": 24,
   "id": "355d04c9-2a3c-4898-aa68-3fc000627892",
   "metadata": {},
   "outputs": [
    {
     "data": {
      "text/plain": [
       "dict_keys"
      ]
     },
     "execution_count": 24,
     "metadata": {},
     "output_type": "execute_result"
    }
   ],
   "source": [
    "algo = KNNBasic()\n",
    "algo.k = 10\n",
    "\n",
    "tempVal = cross_validate(algoItem, data, measures=[\"RMSE\", \"MAE\"], cv=5, verbose=True)  \n",
    "\n",
    "yValUserK.append(mean(tempVal.get('test_rmse')))"
   ]
  },
  {
   "cell_type": "code",
   "execution_count": 36,
   "id": "19a4ba54-f9f1-4344-8730-a25ab7501ef1",
   "metadata": {},
   "outputs": [
    {
     "name": "stdout",
     "output_type": "stream",
     "text": [
      "Computing the msd similarity matrix...\n",
      "Done computing similarity matrix.\n",
      "Computing the msd similarity matrix...\n",
      "Done computing similarity matrix.\n",
      "Computing the msd similarity matrix...\n",
      "Done computing similarity matrix.\n",
      "Computing the msd similarity matrix...\n",
      "Done computing similarity matrix.\n",
      "Computing the msd similarity matrix...\n",
      "Done computing similarity matrix.\n",
      "Evaluating RMSE, MAE of algorithm KNNBasic on 5 split(s).\n",
      "\n",
      "                  Fold 1  Fold 2  Fold 3  Fold 4  Fold 5  Mean    Std     \n",
      "RMSE (testset)    1.1989  1.2142  1.2075  1.2114  1.2106  1.2085  0.0053  \n",
      "MAE (testset)     0.8905  0.9063  0.9029  0.9071  0.9038  0.9021  0.0060  \n",
      "Fit time          0.11    0.11    0.11    0.14    0.11    0.12    0.01    \n",
      "Test time         0.72    0.66    0.83    0.92    0.66    0.76    0.10    \n",
      "Computing the msd similarity matrix...\n",
      "Done computing similarity matrix.\n",
      "Computing the msd similarity matrix...\n",
      "Done computing similarity matrix.\n",
      "Computing the msd similarity matrix...\n",
      "Done computing similarity matrix.\n",
      "Computing the msd similarity matrix...\n",
      "Done computing similarity matrix.\n",
      "Computing the msd similarity matrix...\n",
      "Done computing similarity matrix.\n",
      "Evaluating RMSE, MAE of algorithm KNNBasic on 5 split(s).\n",
      "\n",
      "                  Fold 1  Fold 2  Fold 3  Fold 4  Fold 5  Mean    Std     \n",
      "RMSE (testset)    1.0621  1.0680  1.0640  1.0750  1.0665  1.0671  0.0044  \n",
      "MAE (testset)     0.8125  0.8147  0.8096  0.8175  0.8123  0.8133  0.0026  \n",
      "Fit time          0.12    0.11    0.11    0.12    0.11    0.11    0.00    \n",
      "Test time         0.88    0.80    0.94    0.81    0.83    0.85    0.05    \n",
      "Computing the msd similarity matrix...\n",
      "Done computing similarity matrix.\n",
      "Computing the msd similarity matrix...\n",
      "Done computing similarity matrix.\n",
      "Computing the msd similarity matrix...\n",
      "Done computing similarity matrix.\n",
      "Computing the msd similarity matrix...\n",
      "Done computing similarity matrix.\n",
      "Computing the msd similarity matrix...\n",
      "Done computing similarity matrix.\n",
      "Evaluating RMSE, MAE of algorithm KNNBasic on 5 split(s).\n",
      "\n",
      "                  Fold 1  Fold 2  Fold 3  Fold 4  Fold 5  Mean    Std     \n",
      "RMSE (testset)    1.0043  1.0197  1.0181  1.0194  1.0245  1.0172  0.0068  \n",
      "MAE (testset)     0.7713  0.7815  0.7788  0.7791  0.7838  0.7789  0.0042  \n",
      "Fit time          0.10    0.11    0.11    0.12    0.11    0.11    0.01    \n",
      "Test time         0.95    0.84    0.86    0.96    0.85    0.89    0.05    \n",
      "Computing the msd similarity matrix...\n",
      "Done computing similarity matrix.\n",
      "Computing the msd similarity matrix...\n",
      "Done computing similarity matrix.\n",
      "Computing the msd similarity matrix...\n",
      "Done computing similarity matrix.\n",
      "Computing the msd similarity matrix...\n",
      "Done computing similarity matrix.\n",
      "Computing the msd similarity matrix...\n",
      "Done computing similarity matrix.\n",
      "Evaluating RMSE, MAE of algorithm KNNBasic on 5 split(s).\n",
      "\n",
      "                  Fold 1  Fold 2  Fold 3  Fold 4  Fold 5  Mean    Std     \n",
      "RMSE (testset)    0.9921  0.9962  0.9827  0.9997  0.9897  0.9921  0.0058  \n",
      "MAE (testset)     0.7586  0.7658  0.7524  0.7663  0.7571  0.7600  0.0053  \n",
      "Fit time          0.09    0.11    0.11    0.11    0.11    0.11    0.01    \n",
      "Test time         0.88    0.97    0.84    0.85    0.97    0.90    0.06    \n",
      "Computing the msd similarity matrix...\n",
      "Done computing similarity matrix.\n",
      "Computing the msd similarity matrix...\n",
      "Done computing similarity matrix.\n",
      "Computing the msd similarity matrix...\n",
      "Done computing similarity matrix.\n",
      "Computing the msd similarity matrix...\n",
      "Done computing similarity matrix.\n",
      "Computing the msd similarity matrix...\n",
      "Done computing similarity matrix.\n",
      "Evaluating RMSE, MAE of algorithm KNNBasic on 5 split(s).\n",
      "\n",
      "                  Fold 1  Fold 2  Fold 3  Fold 4  Fold 5  Mean    Std     \n",
      "RMSE (testset)    0.9779  0.9845  0.9863  0.9818  0.9722  0.9805  0.0051  \n",
      "MAE (testset)     0.7486  0.7548  0.7572  0.7526  0.7441  0.7515  0.0046  \n",
      "Fit time          0.09    0.11    0.12    0.11    0.11    0.11    0.01    \n",
      "Test time         0.86    0.89    1.00    0.88    0.86    0.90    0.05    \n",
      "Computing the msd similarity matrix...\n",
      "Done computing similarity matrix.\n",
      "Computing the msd similarity matrix...\n",
      "Done computing similarity matrix.\n",
      "Computing the msd similarity matrix...\n",
      "Done computing similarity matrix.\n",
      "Computing the msd similarity matrix...\n",
      "Done computing similarity matrix.\n",
      "Computing the msd similarity matrix...\n",
      "Done computing similarity matrix.\n",
      "Evaluating RMSE, MAE of algorithm KNNBasic on 5 split(s).\n",
      "\n",
      "                  Fold 1  Fold 2  Fold 3  Fold 4  Fold 5  Mean    Std     \n",
      "RMSE (testset)    0.9742  0.9804  0.9768  0.9758  0.9676  0.9750  0.0042  \n",
      "MAE (testset)     0.7486  0.7472  0.7473  0.7476  0.7424  0.7466  0.0022  \n",
      "Fit time          0.09    0.11    0.12    0.11    0.11    0.11    0.01    \n",
      "Test time         1.04    0.90    0.91    1.05    0.91    0.96    0.07    \n",
      "Computing the msd similarity matrix...\n",
      "Done computing similarity matrix.\n",
      "Computing the msd similarity matrix...\n",
      "Done computing similarity matrix.\n",
      "Computing the msd similarity matrix...\n",
      "Done computing similarity matrix.\n",
      "Computing the msd similarity matrix...\n",
      "Done computing similarity matrix.\n",
      "Computing the msd similarity matrix...\n",
      "Done computing similarity matrix.\n",
      "Evaluating RMSE, MAE of algorithm KNNBasic on 5 split(s).\n",
      "\n",
      "                  Fold 1  Fold 2  Fold 3  Fold 4  Fold 5  Mean    Std     \n",
      "RMSE (testset)    0.9772  0.9722  0.9682  0.9717  0.9683  0.9715  0.0033  \n",
      "MAE (testset)     0.7486  0.7484  0.7415  0.7429  0.7430  0.7449  0.0030  \n",
      "Fit time          0.11    0.11    0.11    0.11    0.11    0.11    0.00    \n",
      "Test time         0.93    1.06    0.92    0.93    1.09    0.99    0.07    \n",
      "Computing the msd similarity matrix...\n",
      "Done computing similarity matrix.\n",
      "Computing the msd similarity matrix...\n",
      "Done computing similarity matrix.\n",
      "Computing the msd similarity matrix...\n",
      "Done computing similarity matrix.\n",
      "Computing the msd similarity matrix...\n",
      "Done computing similarity matrix.\n",
      "Computing the msd similarity matrix...\n",
      "Done computing similarity matrix.\n",
      "Evaluating RMSE, MAE of algorithm KNNBasic on 5 split(s).\n",
      "\n",
      "                  Fold 1  Fold 2  Fold 3  Fold 4  Fold 5  Mean    Std     \n",
      "RMSE (testset)    0.9678  0.9698  0.9653  0.9707  0.9692  0.9686  0.0019  \n",
      "MAE (testset)     0.7439  0.7426  0.7378  0.7447  0.7456  0.7429  0.0027  \n",
      "Fit time          0.09    0.11    0.11    0.11    0.11    0.11    0.01    \n",
      "Test time         0.92    0.94    0.94    0.97    1.07    0.97    0.05    \n",
      "Computing the msd similarity matrix...\n",
      "Done computing similarity matrix.\n",
      "Computing the msd similarity matrix...\n",
      "Done computing similarity matrix.\n",
      "Computing the msd similarity matrix...\n",
      "Done computing similarity matrix.\n",
      "Computing the msd similarity matrix...\n",
      "Done computing similarity matrix.\n",
      "Computing the msd similarity matrix...\n",
      "Done computing similarity matrix.\n",
      "Evaluating RMSE, MAE of algorithm KNNBasic on 5 split(s).\n",
      "\n",
      "                  Fold 1  Fold 2  Fold 3  Fold 4  Fold 5  Mean    Std     \n",
      "RMSE (testset)    0.9670  0.9582  0.9767  0.9708  0.9671  0.9680  0.0060  \n",
      "MAE (testset)     0.7415  0.7347  0.7489  0.7404  0.7428  0.7417  0.0045  \n",
      "Fit time          0.09    0.12    0.11    0.15    0.16    0.13    0.02    \n",
      "Test time         0.95    0.98    1.25    1.14    1.20    1.10    0.12    \n",
      "Computing the msd similarity matrix...\n",
      "Done computing similarity matrix.\n",
      "Computing the msd similarity matrix...\n",
      "Done computing similarity matrix.\n",
      "Computing the msd similarity matrix...\n",
      "Done computing similarity matrix.\n",
      "Computing the msd similarity matrix...\n",
      "Done computing similarity matrix.\n",
      "Computing the msd similarity matrix...\n",
      "Done computing similarity matrix.\n",
      "Evaluating RMSE, MAE of algorithm KNNBasic on 5 split(s).\n",
      "\n",
      "                  Fold 1  Fold 2  Fold 3  Fold 4  Fold 5  Mean    Std     \n",
      "RMSE (testset)    0.9684  0.9610  0.9726  0.9692  0.9714  0.9685  0.0040  \n",
      "MAE (testset)     0.7411  0.7362  0.7456  0.7436  0.7444  0.7422  0.0033  \n",
      "Fit time          0.10    0.11    0.11    0.11    0.13    0.11    0.01    \n",
      "Test time         1.23    1.00    0.98    1.11    1.02    1.07    0.09    \n",
      "Computing the msd similarity matrix...\n",
      "Done computing similarity matrix.\n",
      "Computing the msd similarity matrix...\n",
      "Done computing similarity matrix.\n",
      "Computing the msd similarity matrix...\n",
      "Done computing similarity matrix.\n",
      "Computing the msd similarity matrix...\n",
      "Done computing similarity matrix.\n",
      "Computing the msd similarity matrix...\n",
      "Done computing similarity matrix.\n",
      "Evaluating RMSE, MAE of algorithm KNNBasic on 5 split(s).\n",
      "\n",
      "                  Fold 1  Fold 2  Fold 3  Fold 4  Fold 5  Mean    Std     \n",
      "RMSE (testset)    1.3051  1.2972  1.3055  1.3075  1.2981  1.3027  0.0042  \n",
      "MAE (testset)     0.9668  0.9621  0.9709  0.9686  0.9626  0.9662  0.0034  \n",
      "Fit time          3.23    2.96    2.88    2.91    2.95    2.99    0.13    \n",
      "Test time         4.18    4.00    3.97    3.95    4.02    4.02    0.08    \n",
      "Computing the msd similarity matrix...\n",
      "Done computing similarity matrix.\n",
      "Computing the msd similarity matrix...\n",
      "Done computing similarity matrix.\n",
      "Computing the msd similarity matrix...\n",
      "Done computing similarity matrix.\n",
      "Computing the msd similarity matrix...\n",
      "Done computing similarity matrix.\n",
      "Computing the msd similarity matrix...\n",
      "Done computing similarity matrix.\n",
      "Evaluating RMSE, MAE of algorithm KNNBasic on 5 split(s).\n",
      "\n",
      "                  Fold 1  Fold 2  Fold 3  Fold 4  Fold 5  Mean    Std     \n",
      "RMSE (testset)    1.1489  1.1413  1.1371  1.1377  1.1346  1.1399  0.0050  \n",
      "MAE (testset)     0.8782  0.8679  0.8667  0.8667  0.8667  0.8692  0.0045  \n",
      "Fit time          2.92    2.88    2.92    2.87    2.89    2.90    0.02    \n",
      "Test time         4.11    4.39    4.43    4.48    4.37    4.35    0.13    \n",
      "Computing the msd similarity matrix...\n",
      "Done computing similarity matrix.\n",
      "Computing the msd similarity matrix...\n",
      "Done computing similarity matrix.\n",
      "Computing the msd similarity matrix...\n",
      "Done computing similarity matrix.\n",
      "Computing the msd similarity matrix...\n",
      "Done computing similarity matrix.\n",
      "Computing the msd similarity matrix...\n",
      "Done computing similarity matrix.\n",
      "Evaluating RMSE, MAE of algorithm KNNBasic on 5 split(s).\n",
      "\n",
      "                  Fold 1  Fold 2  Fold 3  Fold 4  Fold 5  Mean    Std     \n",
      "RMSE (testset)    1.0800  1.0835  1.0804  1.0813  1.0874  1.0825  0.0027  \n",
      "MAE (testset)     0.8326  0.8334  0.8320  0.8307  0.8370  0.8331  0.0021  \n",
      "Fit time          2.93    2.95    2.91    2.90    2.94    2.93    0.02    \n",
      "Test time         4.17    4.48    4.67    4.47    4.58    4.48    0.17    \n",
      "Computing the msd similarity matrix...\n",
      "Done computing similarity matrix.\n",
      "Computing the msd similarity matrix...\n",
      "Done computing similarity matrix.\n",
      "Computing the msd similarity matrix...\n",
      "Done computing similarity matrix.\n",
      "Computing the msd similarity matrix...\n",
      "Done computing similarity matrix.\n",
      "Computing the msd similarity matrix...\n",
      "Done computing similarity matrix.\n",
      "Evaluating RMSE, MAE of algorithm KNNBasic on 5 split(s).\n",
      "\n",
      "                  Fold 1  Fold 2  Fold 3  Fold 4  Fold 5  Mean    Std     \n",
      "RMSE (testset)    1.0436  1.0539  1.0482  1.0429  1.0460  1.0469  0.0040  \n",
      "MAE (testset)     0.8045  0.8122  0.8089  0.8026  0.8083  0.8073  0.0034  \n",
      "Fit time          2.87    2.89    2.92    2.85    3.30    2.97    0.17    \n",
      "Test time         4.46    4.64    4.56    4.53    5.65    4.77    0.44    \n",
      "Computing the msd similarity matrix...\n",
      "Done computing similarity matrix.\n",
      "Computing the msd similarity matrix...\n",
      "Done computing similarity matrix.\n",
      "Computing the msd similarity matrix...\n",
      "Done computing similarity matrix.\n",
      "Computing the msd similarity matrix...\n",
      "Done computing similarity matrix.\n",
      "Computing the msd similarity matrix...\n",
      "Done computing similarity matrix.\n",
      "Evaluating RMSE, MAE of algorithm KNNBasic on 5 split(s).\n",
      "\n",
      "                  Fold 1  Fold 2  Fold 3  Fold 4  Fold 5  Mean    Std     \n",
      "RMSE (testset)    1.0351  1.0180  1.0268  1.0303  1.0098  1.0240  0.0090  \n",
      "MAE (testset)     0.7978  0.7873  0.7919  0.7968  0.7794  0.7907  0.0068  \n",
      "Fit time          2.86    2.85    2.94    2.89    2.91    2.89    0.03    \n",
      "Test time         4.54    4.63    4.51    4.55    4.65    4.57    0.06    \n",
      "Computing the msd similarity matrix...\n",
      "Done computing similarity matrix.\n",
      "Computing the msd similarity matrix...\n",
      "Done computing similarity matrix.\n",
      "Computing the msd similarity matrix...\n",
      "Done computing similarity matrix.\n",
      "Computing the msd similarity matrix...\n",
      "Done computing similarity matrix.\n",
      "Computing the msd similarity matrix...\n",
      "Done computing similarity matrix.\n",
      "Evaluating RMSE, MAE of algorithm KNNBasic on 5 split(s).\n",
      "\n",
      "                  Fold 1  Fold 2  Fold 3  Fold 4  Fold 5  Mean    Std     \n",
      "RMSE (testset)    1.0043  0.9978  1.0108  1.0044  1.0115  1.0058  0.0050  \n",
      "MAE (testset)     0.7753  0.7723  0.7823  0.7767  0.7797  0.7773  0.0035  \n",
      "Fit time          2.90    2.95    2.93    2.94    2.87    2.92    0.03    \n",
      "Test time         4.38    4.54    4.57    4.59    4.71    4.56    0.11    \n",
      "Computing the msd similarity matrix...\n",
      "Done computing similarity matrix.\n",
      "Computing the msd similarity matrix...\n",
      "Done computing similarity matrix.\n",
      "Computing the msd similarity matrix...\n",
      "Done computing similarity matrix.\n",
      "Computing the msd similarity matrix...\n",
      "Done computing similarity matrix.\n",
      "Computing the msd similarity matrix...\n",
      "Done computing similarity matrix.\n",
      "Evaluating RMSE, MAE of algorithm KNNBasic on 5 split(s).\n",
      "\n",
      "                  Fold 1  Fold 2  Fold 3  Fold 4  Fold 5  Mean    Std     \n",
      "RMSE (testset)    0.9942  0.9940  0.9985  0.9965  0.9920  0.9950  0.0022  \n",
      "MAE (testset)     0.7682  0.7708  0.7740  0.7707  0.7669  0.7701  0.0025  \n",
      "Fit time          2.85    2.87    2.90    2.97    2.98    2.91    0.05    \n",
      "Test time         4.51    4.69    4.60    4.65    4.91    4.67    0.14    \n",
      "Computing the msd similarity matrix...\n",
      "Done computing similarity matrix.\n",
      "Computing the msd similarity matrix...\n",
      "Done computing similarity matrix.\n",
      "Computing the msd similarity matrix...\n",
      "Done computing similarity matrix.\n",
      "Computing the msd similarity matrix...\n",
      "Done computing similarity matrix.\n",
      "Computing the msd similarity matrix...\n",
      "Done computing similarity matrix.\n",
      "Evaluating RMSE, MAE of algorithm KNNBasic on 5 split(s).\n",
      "\n",
      "                  Fold 1  Fold 2  Fold 3  Fold 4  Fold 5  Mean    Std     \n",
      "RMSE (testset)    0.9879  0.9773  0.9869  0.9862  0.9933  0.9863  0.0051  \n",
      "MAE (testset)     0.7638  0.7586  0.7611  0.7623  0.7691  0.7630  0.0035  \n",
      "Fit time          3.83    3.41    2.89    2.94    2.84    3.18    0.39    \n",
      "Test time         6.09    4.76    4.64    4.78    5.03    5.06    0.53    \n",
      "Computing the msd similarity matrix...\n",
      "Done computing similarity matrix.\n",
      "Computing the msd similarity matrix...\n",
      "Done computing similarity matrix.\n",
      "Computing the msd similarity matrix...\n",
      "Done computing similarity matrix.\n",
      "Computing the msd similarity matrix...\n",
      "Done computing similarity matrix.\n",
      "Computing the msd similarity matrix...\n",
      "Done computing similarity matrix.\n",
      "Evaluating RMSE, MAE of algorithm KNNBasic on 5 split(s).\n",
      "\n",
      "                  Fold 1  Fold 2  Fold 3  Fold 4  Fold 5  Mean    Std     \n",
      "RMSE (testset)    0.9882  0.9842  0.9748  0.9724  0.9814  0.9802  0.0058  \n",
      "MAE (testset)     0.7650  0.7597  0.7551  0.7526  0.7592  0.7583  0.0043  \n",
      "Fit time          2.85    2.92    2.85    2.86    2.98    2.89    0.05    \n",
      "Test time         4.48    4.82    4.65    4.62    4.71    4.66    0.11    \n",
      "Computing the msd similarity matrix...\n",
      "Done computing similarity matrix.\n",
      "Computing the msd similarity matrix...\n",
      "Done computing similarity matrix.\n",
      "Computing the msd similarity matrix...\n",
      "Done computing similarity matrix.\n",
      "Computing the msd similarity matrix...\n",
      "Done computing similarity matrix.\n",
      "Computing the msd similarity matrix...\n",
      "Done computing similarity matrix.\n",
      "Evaluating RMSE, MAE of algorithm KNNBasic on 5 split(s).\n",
      "\n",
      "                  Fold 1  Fold 2  Fold 3  Fold 4  Fold 5  Mean    Std     \n",
      "RMSE (testset)    0.9779  0.9779  0.9662  0.9782  0.9749  0.9750  0.0046  \n",
      "MAE (testset)     0.7563  0.7575  0.7453  0.7570  0.7551  0.7542  0.0045  \n",
      "Fit time          2.82    2.92    2.90    2.95    2.95    2.91    0.05    \n",
      "Test time         6.00    4.81    4.86    4.86    4.79    5.06    0.47    \n"
     ]
    }
   ],
   "source": [
    "kRMSE = []\n",
    "kMAE = []\n",
    "for i in range(1,11):\n",
    "    algo = KNNBasic(k = i)\n",
    "\n",
    "    tempVal = cross_validate(algo, data, measures=[\"RMSE\", \"MAE\"], cv=5, verbose=True)  \n",
    "\n",
    "    kRMSE.append(mean(tempVal.get('test_rmse')))\n",
    "    kMAE.append(mean(tempVal.get('test_mae')))\n",
    "    \n",
    "kRMSEItem = []\n",
    "kMAEItem = []\n",
    "for i in range(1,11):\n",
    "    sim_options = {\n",
    "    \"user_based\": False,  # compute  similarities between items\n",
    "    }\n",
    "\n",
    "    algo = KNNBasic(k = i, sim_options=sim_options)    \n",
    "\n",
    "    tempVal = cross_validate(algo, data, measures=[\"RMSE\", \"MAE\"], cv=5, verbose=True)  \n",
    "\n",
    "    kRMSEItem.append(mean(tempVal.get('test_rmse')))\n",
    "    kMAEItem.append(mean(tempVal.get('test_mae')))"
   ]
  },
  {
   "cell_type": "code",
   "execution_count": 37,
   "id": "072fec56-4730-4271-98fe-f59984e60d23",
   "metadata": {},
   "outputs": [
    {
     "data": {
      "text/plain": [
       "Text(0.5, 1.0, 'RSME Values for User-based vs Item-based Collaborative Filtering')"
      ]
     },
     "execution_count": 37,
     "metadata": {},
     "output_type": "execute_result"
    },
    {
     "data": {
      "image/png": "[encoded data removed]",
      "text/plain": [
       "<Figure size 640x480 with 1 Axes>"
      ]
     },
     "metadata": {},
     "output_type": "display_data"
    }
   ],
   "source": [
    "xValues = [1,2,3,4,5,6,7,8,9,10]\n",
    "\n",
    "plt.plot(xValues, kRMSE, color = 'red', label = 'User-based')\n",
    "plt.plot(xValues, kRMSEItem, color = 'blue', label = 'Item-based')\n",
    "plt.xlabel('k value')\n",
    "plt.ylabel('RMSE Value')\n",
    "plt.legend(loc=\"upper right\")\n",
    "plt.title('RSME Values for User-based vs Item-based Collaborative Filtering')"
   ]
  },
  {
   "cell_type": "code",
   "execution_count": 41,
   "id": "c41ac2b1-d19d-4793-9cd9-bb54cde9ae3a",
   "metadata": {},
   "outputs": [
    {
     "data": {
      "text/plain": [
       "[1.2085374280962082,\n",
       " 1.0671409571860129,\n",
       " 1.017194453971049,\n",
       " 0.9921036937464155,\n",
       " 0.9805277883191484,\n",
       " 0.9749539822206905,\n",
       " 0.9715102909979639,\n",
       " 0.9685568366414684,\n",
       " 0.9679748950005185,\n",
       " 0.96852303303208]"
      ]
     },
     "execution_count": 41,
     "metadata": {},
     "output_type": "execute_result"
    }
   ],
   "source": [
    "kRMSE"
   ]
  },
  {
   "cell_type": "code",
   "execution_count": 38,
   "id": "98b67186-a06f-4136-9934-9945167faee3",
   "metadata": {},
   "outputs": [
    {
     "data": {
      "text/plain": [
       "Text(0.5, 1.0, 'MAE Values for User-based vs Item-based Collaborative Filtering')"
      ]
     },
     "execution_count": 38,
     "metadata": {},
     "output_type": "execute_result"
    },
    {
     "data": {
      "image/png": "[encoded data removed]",
      "text/plain": [
       "<Figure size 640x480 with 1 Axes>"
      ]
     },
     "metadata": {},
     "output_type": "display_data"
    }
   ],
   "source": [
    "xValues = [1,2,3,4,5,6,7,8,9,10]\n",
    "\n",
    "plt.plot(xValues, kMAE, color = 'red', label = 'User-based')\n",
    "plt.plot(xValues, kMAEItem, color = 'blue', label = 'Item-based')\n",
    "plt.xlabel('k value')\n",
    "plt.ylabel('MAE Value')\n",
    "plt.legend(loc=\"upper right\")\n",
    "plt.title('MAE Values for User-based vs Item-based Collaborative Filtering')"
   ]
  },
  {
   "cell_type": "code",
   "execution_count": 8,
   "id": "b2a9b4d7-c8b8-4bf8-977c-d69d9e004ea4",
   "metadata": {},
   "outputs": [
    {
     "data": {
      "text/plain": [
       "Text(0.5, 1.0, 'Similarity Values for User-based Collaborative Filtering')"
      ]
     },
     "execution_count": 8,
     "metadata": {},
     "output_type": "execute_result"
    },
    {
     "data": {
      "image/png": "[encoded data removed]",
      "text/plain": [
       "<Figure size 640x480 with 1 Axes>"
      ]
     },
     "metadata": {},
     "output_type": "display_data"
    }
   ],
   "source": [
    "xValues = [\"cosine\", \"msd\", \"pearson\"]\n",
    "yValUserR = [0.9957, 0.9672, 0.9976]\n",
    "yValUserM = [0.7694, 0.7435, 0.7727]\n",
    "\n",
    "yValItemR = [0.9948, 0.9343, 0.9898]\n",
    "yValItemM = [0.7743, 0.7208, 0.7684]\n",
    "\n",
    "plt.plot(xValues, yValUserR, color = 'red', label = 'RMSE')\n",
    "plt.plot(xValues, yValUserM, color = 'blue', label = 'MAE')\n",
    "plt.xlabel('Similarity Measures')\n",
    "plt.legend(loc=\"upper right\")\n",
    "plt.title('Similarity Values for User-based Collaborative Filtering')"
   ]
  },
  {
   "cell_type": "code",
   "execution_count": 9,
   "id": "ca9332a6-60a6-40b6-8f14-9d2b6c44f867",
   "metadata": {},
   "outputs": [
    {
     "data": {
      "text/plain": [
       "Text(0.5, 1.0, 'Similarity Values for Item-based Collaborative Filtering')"
      ]
     },
     "execution_count": 9,
     "metadata": {},
     "output_type": "execute_result"
    },
    {
     "data": {
      "image/png": "[encoded data removed]",
      "text/plain": [
       "<Figure size 640x480 with 1 Axes>"
      ]
     },
     "metadata": {},
     "output_type": "display_data"
    }
   ],
   "source": [
    "plt.plot(xValues, yValItemR, color = 'red', label = 'RMSE')\n",
    "plt.plot(xValues, yValItemM, color = 'blue', label = 'MAE')\n",
    "plt.xlabel('Similarity Measures')\n",
    "plt.legend(loc=\"upper right\")\n",
    "plt.title('Similarity Values for Item-based Collaborative Filtering')"
   ]
  },
  {
   "cell_type": "code",
   "execution_count": null,
   "id": "d420763d-9666-4045-8e8f-bc1a6daf90d5",
   "metadata": {},
   "outputs": [],
   "source": []
  }
 ],
 "metadata": {
  "kernelspec": {
   "display_name": "Python 3 (ipykernel)",
   "language": "python",
   "name": "python3"
  },
  "language_info": {
   "codemirror_mode": {
    "name": "ipython",
    "version": 3
   },
   "file_extension": ".py",
   "mimetype": "text/x-python",
   "name": "python",
   "nbconvert_exporter": "python",
   "pygments_lexer": "ipython3",
   "version": "3.10.9"
  }
 },
 "nbformat": 4,
 "nbformat_minor": 5
}
